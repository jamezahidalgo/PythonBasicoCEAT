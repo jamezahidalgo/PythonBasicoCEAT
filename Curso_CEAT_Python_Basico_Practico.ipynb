{
  "nbformat": 4,
  "nbformat_minor": 0,
  "metadata": {
    "colab": {
      "provenance": []
    },
    "kernelspec": {
      "name": "python3",
      "display_name": "Python 3"
    },
    "language_info": {
      "name": "python"
    }
  },
  "cells": [
    {
      "cell_type": "markdown",
      "source": [
        "# Introducción"
      ],
      "metadata": {
        "id": "z2SXG-OHQ4Mw"
      }
    },
    {
      "cell_type": "markdown",
      "metadata": {
        "id": "HMREIrpyseNx"
      },
      "source": [
        "## ¿Qué es Python?\n",
        "\n",
        "* Lenguaje de programación de alto nivel\n",
        "* No requiere compilación para ejecutar las aplicaciones\n",
        "* Lenguaje multiplataforma de código abierto, algo que permite desarrollar aplicaciones en cualquier sistema operativo\n",
        "* Lenguaje sencillo de leer y escribir\n",
        "* Utilizado para desarrollar aplicaciones de todo tipo\n",
        "* Una gran cantidad de tecnologías se llevan muy bien con Python debido a su sencillez y a su gran potencia para el tratamiento de datos algo que sin duda ha hecho resurgir este lenguaje a nivel laboral\n",
        "* Cada vez son más las empresas que solicitan expertos en Python\n"
      ]
    },
    {
      "cell_type": "markdown",
      "metadata": {
        "id": "gJWrktSzv654"
      },
      "source": [
        "## ¿Dónde se utiliza Python?\n",
        "\n",
        "* **Desarrollo web**: con Python se pueden desarrollar webs complejas en menos líneas de código. Posse frameworks que pueden ser utilizado para crear webs dinámicas y muy seguras. Es también muy utilizado para obtener información de todo tipo de webs, tal y como lo hacen Netflix, Instagram o Pinterest, entre otros.\n",
        "* **Juegos y gráficos 3D**: Python posee una gran capacidad para manejar gráficos 3D, animaciones y distintas funcionalidades para el desarrollo de juegos.\n",
        "* **Inteligencia artificial**: Su facilidad de escritura, su robustez, su capacidad de plasmar ideas complejas en pocas líneas, unidas al gran número de frameworks existentes han convertido a Python en el aliado perfecto de la IA.\n",
        "* **Data mining**: Es un proceso que permite analizar grandes bases de datos con el objetivo de predecir futuras tendencias, es  un proceso complejo en el que Python contribuye a través de la limpieza y organización de datos y del uso de algoritmos de aprendizaje automático que simplifica el análisis de datos.\n",
        "* **Machine learning**: Es otra de las tecnologías que está haciendo uso de python permite que La robótica y la IA aprendan por sí mismas a medida que van procesando más y más datos, facilitando un proceso de toma de decissiones.\n",
        "* **Data analytics y big data**: Su simplicidad y su gran número de bibliotecas hacen que Python sea ideal a la hora de analizar y gestionar una gran cantidad de datos en tiempo real transformando éstos en información útil.\n",
        "* **Data science**: La sencillez y la potencia de python para trabajar con un gran número de datos, unidos al gran número de bibliotecas existentes, hacen que sea ideal para el trabajo de los científicos.\n",
        "* **Blockchain**: Python como lenguaje versátil, seguro y rápido, es muy útil para formar cadenas de bloques, permitiendo crear una cadena de bloques sencilla en menos de 50 líneas de código, haciendo sencillo algo muy complejo.\n"
      ]
    },
    {
      "cell_type": "markdown",
      "metadata": {
        "id": "M50DIdPNxKgY"
      },
      "source": [
        "## Proyectos que se implementaron utilizando python\n",
        "\n",
        "* Instagram\n",
        "* Pinterest\n",
        "* Google apps engine\n",
        "* Facebook\n",
        "* Dropbox\n",
        "* Battlefield 2\n",
        "* Netflix\n",
        "* Spotify"
      ]
    },
    {
      "cell_type": "markdown",
      "metadata": {
        "id": "IpMbADhHyG_S"
      },
      "source": [
        "## Python uno de los lenguajes más demandado laboralmente\n",
        "\n",
        "* Se necesitan gran número de programadores expertos en Python para desarrollar nuevas funciones en las áreas relacionadas con IA, machine learning, análisis de datos.\n",
        "* Según el Informe de Empleos Emergentes 2020 de LinkedIn, la demanda de desarrolladores Python ha crecido un 30% respecto al 2020.\n",
        "* Cuenta con una comunidad de desarrolladores que se estima aproximadamente en 10 millones de personas.\n"
      ]
    },
    {
      "cell_type": "markdown",
      "metadata": {
        "id": "z2ZVGCQrzpZX"
      },
      "source": [
        "## IDE para desarrollo python\n",
        "\n",
        "* Spyder\n",
        "* Idle\n",
        "* Visual Studio Code\n",
        "* Atom\n",
        "* Jupyter\n",
        "* PyDev\n",
        "* Thonny\n",
        "* Wing\n",
        "* Komodo\n",
        "* Colab\n",
        "* Entre otros\n"
      ]
    },
    {
      "cell_type": "markdown",
      "source": [
        "\n",
        "\n",
        "---\n",
        "\n",
        "\n",
        "# Sesión 1\n",
        "\n",
        "\n",
        "---\n",
        "\n"
      ],
      "metadata": {
        "id": "fFh7VapLRDYQ"
      }
    },
    {
      "cell_type": "markdown",
      "metadata": {
        "id": "bwoVr5aIYhsN"
      },
      "source": [
        "### Variables y tipos de datos\n",
        "\n",
        "## Variables\n",
        "Una variable es donde se guarda (y se recupera) un dato que se utiliza en un programa. Las variables pueden modificar su valor y se utilizan para:\n",
        "\n",
        "+ Guardar datos y estados.\n",
        "+ Asignar valores de una variable a otra.\n",
        "+ Representar valores dentro de una expresión matemática.\n",
        "+ Mostrar valores por pantalla.\n",
        "\n",
        "Todas las variables deben ser de un tipo de dato, ya sea un dato de tipo primitivo (número, texto), o un dato de tipo abstracto (objeto).\n",
        "\n",
        "Las variables por defecto en Python son locales.\n",
        "\n",
        "**Reglas para asignar nombres a las variables**\n",
        "\n",
        "+ El nombre de la variable debe ser único.\n",
        "+ Puede ser solo una palabra.\n",
        "+ Solo puede usar letras, números y el caracter de subrayado (_).\n",
        "+ No puede comenzar con un número.\n",
        "+ No pueden ser iguales a las palabras reservadas del lenguaje."
      ]
    },
    {
      "cell_type": "code",
      "metadata": {
        "id": "bO__j8BxaDM7"
      },
      "source": [
        "# Variable entera\n",
        "x_entero = 29\n",
        "# Variable decimal\n",
        "x_decimal = 29.6\n",
        "# Variable lógica\n",
        "x_logica = True"
      ],
      "execution_count": null,
      "outputs": []
    },
    {
      "cell_type": "code",
      "metadata": {
        "id": "GxmzQugEaQ2H"
      },
      "source": [
        "# Trabajando con cadenas de caracteres\n",
        "x_cadena = \"Aprendiendo Python\"\n",
        "y_cadena = 'Lo esencial es invisible a los ojos'"
      ],
      "execution_count": null,
      "outputs": []
    },
    {
      "cell_type": "code",
      "metadata": {
        "id": "LgODun-1bM05"
      },
      "source": [
        "# Número complejo\n",
        "x_complejo = 4 + 5j"
      ],
      "execution_count": null,
      "outputs": []
    },
    {
      "cell_type": "code",
      "metadata": {
        "id": "sV1B65BvRcPG"
      },
      "source": [
        "# Asignando multiples valores a variables distintas\n",
        "x_puntos, x_nota, x_texto = 5, 3.2, \"Hola\""
      ],
      "execution_count": null,
      "outputs": []
    },
    {
      "cell_type": "code",
      "metadata": {
        "id": "g810Q4vkSEfC"
      },
      "source": [
        "# Asignando el mismo valor a distintas variables\n",
        "x_nota1 = x_nota2 = x_nota3 = 6.5"
      ],
      "execution_count": null,
      "outputs": []
    },
    {
      "cell_type": "markdown",
      "source": [
        "## Ejercicios\n",
        "\n",
        "1. Declarar una variable que le permita guardar su edad.\n",
        "2. Declarar una variable que le permita guardar su nombre.\n",
        "3. Declarar una variable que le permita guardar su estatura en metros."
      ],
      "metadata": {
        "id": "nCJ29uJTGyNE"
      }
    },
    {
      "cell_type": "markdown",
      "metadata": {
        "id": "JTvC1Nl4YrB5"
      },
      "source": [
        "## Entrada/salida estándar"
      ]
    },
    {
      "cell_type": "markdown",
      "metadata": {
        "id": "29Uke0YeHWHP"
      },
      "source": [
        "Los programas serían de muy poca utilidad si no fueran capaces de interactuar con el usuario, es por ello que las funciones de entrada y salida estándar son útiles para establecer la comunicación.\n",
        "\n",
        "La entrada estándar se utiliza para pedir información al usuario y la salida estándar se utiliza para mostrar información por pantalla.\n",
        "\n",
        "\n",
        "\n"
      ]
    },
    {
      "cell_type": "code",
      "metadata": {
        "colab": {
          "base_uri": "https://localhost:8080/"
        },
        "id": "oFjIzJ_2ab9r",
        "outputId": "715c9433-72b7-4f9a-c4b5-bdbd2cee5fb5"
      },
      "source": [
        "# Lectura desde teclado\n",
        "x = input(\"Valor para x : \")\n",
        "# Imprimir en la pantalla\n",
        "print(x)"
      ],
      "execution_count": 1,
      "outputs": [
        {
          "output_type": "stream",
          "name": "stdout",
          "text": [
            "Valor para x : a\n",
            "a\n"
          ]
        }
      ]
    },
    {
      "cell_type": "markdown",
      "source": [
        "Es conveniente considerar que la función input SIEMPRE retorna lo que lee como una cadena de caracteres.\n",
        "\n",
        "La pregunta es: ¿Qué debeo hacer si se requiere leer un número entero o decimal para poder después sumarlo por ejemplo?\n",
        "\n",
        "La respuesta: usando funciones presentes en Python que ayudan a convertir lo que se lee. Algunas de ellas son:\n",
        "\n",
        "+ int\n",
        "+ float"
      ],
      "metadata": {
        "id": "2_b7NsgwAMqy"
      }
    },
    {
      "cell_type": "code",
      "source": [
        "# Lee un número entero\n",
        "x = int(input(\"x = \"))\n",
        "# Imprime lo leído\n",
        "print(x)\n",
        "# Lee un número decimal\n",
        "x = float(input(\"x = \"))\n",
        "# Imprime lo leído, observe que acá la función print acepta 2 componentes: un texto y la variable\n",
        "print(\"Valor decimal leido es:\", x)\n"
      ],
      "metadata": {
        "colab": {
          "base_uri": "https://localhost:8080/"
        },
        "id": "DwLdGl4PArtO",
        "outputId": "f516ebbc-cd01-4165-afe7-7bc8184e2da3"
      },
      "execution_count": 6,
      "outputs": [
        {
          "output_type": "stream",
          "name": "stdout",
          "text": [
            "x = 2\n",
            "2\n",
            "x = 5.7\n",
            "Valor decimal leido es: 5.7\n"
          ]
        }
      ]
    },
    {
      "cell_type": "markdown",
      "metadata": {
        "id": "67-FXRJ71zFa"
      },
      "source": [
        "## Trabajando con cadenas de caracteres"
      ]
    },
    {
      "cell_type": "code",
      "metadata": {
        "id": "yXx0O4NDNuQC",
        "colab": {
          "base_uri": "https://localhost:8080/"
        },
        "outputId": "64bcc198-41ba-4e84-af00-ec9b9e36785b"
      },
      "source": [
        "# Define la variable como cadena de caracteres\n",
        "c = \"televisor\"\n",
        "# Imprime el tipo de dato de la variable\n",
        "print(\"Tipo de dato es :\", type(c))\n",
        "\n",
        "# Uso de slice (este concepto se revisará con detalle más adelante)\n",
        "# Imprime partes de la cadena\n",
        "print(c[:3])\n",
        "print(c[3:])"
      ],
      "execution_count": 5,
      "outputs": [
        {
          "output_type": "stream",
          "name": "stdout",
          "text": [
            "Tipo de dato es : <class 'str'>\n",
            "tel\n",
            "evisor\n"
          ]
        }
      ]
    },
    {
      "cell_type": "code",
      "metadata": {
        "colab": {
          "base_uri": "https://localhost:8080/"
        },
        "id": "AeWPv7_W2ACA",
        "outputId": "1a447150-af1f-4082-a7ef-d01d512491b2"
      },
      "source": [
        "# Define una variable como una cadena de caracteres\n",
        "c = \"tengo mucho sueño\"\n",
        "# Divide la cadena, en este caso considerando como separador el espacio\n",
        "print(c.split(\" \"))"
      ],
      "execution_count": null,
      "outputs": [
        {
          "output_type": "stream",
          "name": "stdout",
          "text": [
            "['tengo', 'mucho', 'sueño']\n"
          ]
        }
      ]
    },
    {
      "cell_type": "code",
      "metadata": {
        "colab": {
          "base_uri": "https://localhost:8080/"
        },
        "id": "vi5gFYby2XUb",
        "outputId": "df3c5291-ca65-4f5c-ed76-64fa28fac5b1"
      },
      "source": [
        "c = \"paralelepipedo\"\n",
        "# Retorna la cadena capitalizada (la primera letra en mayúscula)\n",
        "r = c.capitalize()\n",
        "print(r)\n",
        "# Retorna la cadena transformando TODAS sus letras en mayúsculas\n",
        "r = c.upper()\n",
        "print(r)"
      ],
      "execution_count": null,
      "outputs": [
        {
          "output_type": "stream",
          "name": "stdout",
          "text": [
            "Paralelepipedo\n",
            "PARALELEPIPEDO\n"
          ]
        }
      ]
    },
    {
      "cell_type": "code",
      "metadata": {
        "colab": {
          "base_uri": "https://localhost:8080/"
        },
        "id": "Gz69UrRW22zO",
        "outputId": "652662f5-502c-4a15-d031-944b82b2c50c"
      },
      "source": [
        "# Define una variable que almacena una cadena de caracteres\n",
        "c = \"soy una linda cadena\"\n",
        "# Verifica si se trata de un número\n",
        "print(c.isnumeric())\n",
        "# Obtiene la cantidad de caracteres\n",
        "print(len(c))\n",
        "# Define una variable que almacena una cadena de caracteres (que sólo son dígitos)\n",
        "c = \"29\"\n",
        "# Verifica si se trata de un número\n",
        "print(c.isnumeric())\n",
        "# Obtiene la cantidad de caracteres\n",
        "print(len(c))"
      ],
      "execution_count": null,
      "outputs": [
        {
          "output_type": "stream",
          "name": "stdout",
          "text": [
            "False\n",
            "20\n",
            "True\n",
            "2\n"
          ]
        }
      ]
    },
    {
      "cell_type": "markdown",
      "metadata": {
        "id": "_Qag-7CJZMbN"
      },
      "source": [
        "## Operadores aritméticos\n",
        "\n",
        "+ Suma (+)\n",
        "+ Resta (-)\n",
        "+ Multiplicación (*)\n",
        "+ División (/ y //)\n",
        "+ Potencia (**)\n",
        "+ Resto de una división (%)"
      ]
    },
    {
      "cell_type": "code",
      "metadata": {
        "id": "GJgBxj0hcMce"
      },
      "source": [
        "# Define 2 variables numéricas\n",
        "x = 29\n",
        "y = 6"
      ],
      "execution_count": 7,
      "outputs": []
    },
    {
      "cell_type": "code",
      "metadata": {
        "colab": {
          "base_uri": "https://localhost:8080/"
        },
        "id": "1NkM1HqobeJJ",
        "outputId": "cc44270f-bcfd-4077-91bc-1b2c10593aa8"
      },
      "source": [
        "# Operación matemática (suma)\n",
        "z = x + y\n",
        "print(z)"
      ],
      "execution_count": null,
      "outputs": [
        {
          "output_type": "stream",
          "name": "stdout",
          "text": [
            "35\n"
          ]
        }
      ]
    },
    {
      "cell_type": "code",
      "metadata": {
        "colab": {
          "base_uri": "https://localhost:8080/"
        },
        "id": "hervlfEnbyJ2",
        "outputId": "80876766-e8ac-491c-e5db-ac4fc8725786"
      },
      "source": [
        "# Operación matemática (resta)\n",
        "z = x - y\n",
        "print(z)"
      ],
      "execution_count": null,
      "outputs": [
        {
          "output_type": "stream",
          "name": "stdout",
          "text": [
            "23\n"
          ]
        }
      ]
    },
    {
      "cell_type": "code",
      "metadata": {
        "colab": {
          "base_uri": "https://localhost:8080/"
        },
        "id": "jNgeYi3cb2bK",
        "outputId": "3edbbffe-4bb0-45bd-dd1f-9a77c076435b"
      },
      "source": [
        "# Operación matemática (producto)\n",
        "z = x * y\n",
        "print(z)"
      ],
      "execution_count": null,
      "outputs": [
        {
          "output_type": "stream",
          "name": "stdout",
          "text": [
            "174\n"
          ]
        }
      ]
    },
    {
      "cell_type": "code",
      "metadata": {
        "colab": {
          "base_uri": "https://localhost:8080/"
        },
        "id": "jIbtVeO2b7uR",
        "outputId": "5a556b66-1da9-408b-d235-b3b028289cba"
      },
      "source": [
        "# Operación matemática (división)\n",
        "z = x / y\n",
        "print(z)"
      ],
      "execution_count": 8,
      "outputs": [
        {
          "output_type": "stream",
          "name": "stdout",
          "text": [
            "4.833333333333333\n"
          ]
        }
      ]
    },
    {
      "cell_type": "code",
      "source": [
        "# Bonus track de impresión\n",
        "print(\"{:.2f}\".format(z))"
      ],
      "metadata": {
        "colab": {
          "base_uri": "https://localhost:8080/"
        },
        "id": "YjLgZGJXCvFt",
        "outputId": "3d79547a-e9df-415f-ebc9-83c08b0fe471"
      },
      "execution_count": 9,
      "outputs": [
        {
          "output_type": "stream",
          "name": "stdout",
          "text": [
            "4.83\n"
          ]
        }
      ]
    },
    {
      "cell_type": "code",
      "metadata": {
        "colab": {
          "base_uri": "https://localhost:8080/"
        },
        "id": "CXCMmdITb_-9",
        "outputId": "5a19baf7-e56c-41fb-dfa0-83aed6598903"
      },
      "source": [
        "# Operación matemática (división sólo considerando la parte entera)\n",
        "z = x // y\n",
        "print(z)"
      ],
      "execution_count": null,
      "outputs": [
        {
          "output_type": "stream",
          "name": "stdout",
          "text": [
            "4\n"
          ]
        }
      ]
    },
    {
      "cell_type": "code",
      "metadata": {
        "colab": {
          "base_uri": "https://localhost:8080/"
        },
        "id": "triNITkGdr61",
        "outputId": "b138a963-3e9e-4057-c25e-00f6935eda40"
      },
      "source": [
        "# Operación matemática (potencia)\n",
        "a = 5\n",
        "b = 3\n",
        "z = a ** b\n",
        "print(z)"
      ],
      "execution_count": null,
      "outputs": [
        {
          "output_type": "stream",
          "name": "stdout",
          "text": [
            "125\n"
          ]
        }
      ]
    },
    {
      "cell_type": "code",
      "metadata": {
        "colab": {
          "base_uri": "https://localhost:8080/"
        },
        "id": "Q49WCQVKxUrA",
        "outputId": "7add360c-ce45-4060-99ac-fa1d513b39af"
      },
      "source": [
        "# Operación matemática (resto de la división)\n",
        "a = 23\n",
        "b = 3\n",
        "z = a % b\n",
        "print(z)"
      ],
      "execution_count": null,
      "outputs": [
        {
          "output_type": "stream",
          "name": "stdout",
          "text": [
            "2\n"
          ]
        }
      ]
    },
    {
      "cell_type": "code",
      "metadata": {
        "colab": {
          "base_uri": "https://localhost:8080/"
        },
        "id": "XrHcY5-u0e4D",
        "outputId": "a7bc70b2-25c9-4a27-9694-0905f4b29f0f"
      },
      "source": [
        "# Combinando operaciones matemáticas\n",
        "a = (50-5*6)/4\n",
        "print(a)"
      ],
      "execution_count": null,
      "outputs": [
        {
          "output_type": "stream",
          "name": "stdout",
          "text": [
            "5.0\n"
          ]
        }
      ]
    },
    {
      "cell_type": "code",
      "metadata": {
        "colab": {
          "base_uri": "https://localhost:8080/"
        },
        "id": "9W_csE8d08YJ",
        "outputId": "c07d79aa-f5ad-423c-c32f-d337f73b3481"
      },
      "source": [
        "# Más combinaciones de operaciones matemáticas\n",
        "a = 3 * 3.75 / 1.5\n",
        "b = 7.0 / 2\n",
        "print(a)\n",
        "print(b)"
      ],
      "execution_count": null,
      "outputs": [
        {
          "output_type": "stream",
          "name": "stdout",
          "text": [
            "7.5\n",
            "3.5\n"
          ]
        }
      ]
    },
    {
      "cell_type": "markdown",
      "metadata": {
        "id": "UDGEQT3ONb6g"
      },
      "source": [
        "Python sigue las reglas habituales de precedencia y asociatividad; además, el operador potencia (**) es asociativo desde la derecha y más prioritario que el menos unario. Un ejemplo:"
      ]
    },
    {
      "cell_type": "code",
      "metadata": {
        "id": "hfrmAKUrNg7x",
        "colab": {
          "base_uri": "https://localhost:8080/"
        },
        "outputId": "e2d35928-c5dd-4dd8-a66c-9e0c2c283c1c"
      },
      "source": [
        "x = -2**2\n",
        "print(x)"
      ],
      "execution_count": 10,
      "outputs": [
        {
          "output_type": "stream",
          "name": "stdout",
          "text": [
            "-4\n"
          ]
        }
      ]
    },
    {
      "cell_type": "markdown",
      "metadata": {
        "id": "iM46Qv7ZKrBQ"
      },
      "source": [
        "### Precedencia de operadores en Python\n",
        "\n",
        "\n",
        "---\n",
        "\n",
        "\n",
        "La tabla indica la prioridad de los operadores (de mayor a menor prioridad)\n",
        "\n",
        "<table>\n",
        "  <thead>\n",
        "    <th>Operador</th>\n",
        "    <th>Descripción</th>\n",
        "  </thead>\n",
        "  <tbody>\n",
        "    <tr>\n",
        "      <td>**</td>\n",
        "      <td>Potencia</td>\n",
        "    </tr>\n",
        "    <tr>\n",
        "      <td>~, +, -</td>\n",
        "      <td>Inversor de bit, más y menos binario</td>\n",
        "    </tr>    \n",
        "    <tr>\n",
        "      <td>*, /, //, % </td>\n",
        "      <td>Multiplicación, división, módulo (resto)</td>\n",
        "    </tr>   \n",
        "    <tr>\n",
        "      <td>+, -</td>\n",
        "      <td>Suma y resta</td>\n",
        "    </tr>             \n",
        "    <tr>\n",
        "      <td>>>, <<</td>\n",
        "      <td>Desplazamiento de bits</td>\n",
        "    </tr>\n",
        "    <tr>\n",
        "      <td>&</td>\n",
        "      <td>AND a nivel de bits</td>\n",
        "    </tr>\n",
        "    <tr>\n",
        "      <td>^, | </td>\n",
        "      <td>XOR y OR a nivel de bits</td>\n",
        "    </tr>         \n",
        "    <tr>\n",
        "      <td>>=, <=, >, <</td>\n",
        "      <td>Operadores relacionales</td>\n",
        "    </tr>                         \n",
        "    <tr>\n",
        "      <td><>, ==, !=</td>\n",
        "      <td>Operadores de igualdad</td>\n",
        "    </tr>\n",
        "    <tr>\n",
        "      <td>=, +=, -=, *=, /=</td>\n",
        "      <td>Operadores de asignación</td>\n",
        "    </tr>                                 \n",
        "    <tr>\n",
        "      <td>is</td>\n",
        "      <td>Operador de identidad</td>\n",
        "    </tr>                                 \n",
        "    <tr>\n",
        "      <td>in</td>\n",
        "      <td>Operador de inclusión</td>\n",
        "    </tr>                                 \n",
        "    <tr>\n",
        "      <td>not, and, or</td>\n",
        "      <td>Operadores lógicos</td>\n",
        "    </tr>                                 \n",
        "  </tbody>\n",
        "</table>\n",
        "\n",
        "En caso de querer que las operaciones se realicen en otro orden, se deben utilizar paréntesis"
      ]
    },
    {
      "cell_type": "code",
      "metadata": {
        "colab": {
          "base_uri": "https://localhost:8080/"
        },
        "id": "-VsEDE-6KtIu",
        "outputId": "c0d3ea43-1727-4784-e2d5-55479061197f"
      },
      "source": [
        "x = (3+5)/2 - 5\n",
        "print(x)"
      ],
      "execution_count": null,
      "outputs": [
        {
          "output_type": "stream",
          "name": "stdout",
          "text": [
            "-1.0\n"
          ]
        }
      ]
    },
    {
      "cell_type": "code",
      "metadata": {
        "colab": {
          "base_uri": "https://localhost:8080/"
        },
        "id": "QLuxNVjgLnBZ",
        "outputId": "4bfaab2c-b61f-410a-f2ad-a06641f99c64"
      },
      "source": [
        "# Entendiendo la precedencia de los operadores\n",
        "a = 20\n",
        "b = 10\n",
        "c = 15\n",
        "d = 5\n",
        "e = 0\n",
        "e = (a + b) * c / d       #( 30 * 15 ) / 5\n",
        "print(\"(a + b) * c / d ：\",  e)\n",
        "\n",
        "e = ((a + b) * c) / d     # (30 * 15 ) / 5\n",
        "print(\"((a + b) * c) / d ：\",  e)\n",
        "\n",
        "e = (a + b) * (c / d);    # (30) * (15/5)\n",
        "print(\"(a + b) * (c / d) ：\",  e)\n",
        "\n",
        "e = a + (b * c) / d;      #  20 + (150/5)\n",
        "print (\"a + (b * c) / d ：\",  e)"
      ],
      "execution_count": null,
      "outputs": [
        {
          "output_type": "stream",
          "name": "stdout",
          "text": [
            "(a + b) * c / d ： 90.0\n",
            "((a + b) * c) / d ： 90.0\n",
            "(a + b) * (c / d) ： 90.0\n",
            "a + (b * c) / d ： 50.0\n"
          ]
        }
      ]
    },
    {
      "cell_type": "markdown",
      "metadata": {
        "id": "2pE9_i11ZW2S"
      },
      "source": [
        "## Operadores de comparación y relacionales\n",
        "\n",
        "+ Mayor que (>)\n",
        "+ Menor que (<)\n",
        "+ Mayor o igual que (>=)\n",
        "+ Menor o igual que (<=)\n",
        "+ Igualdad (==)\n",
        "+ Distinto (!=)"
      ]
    },
    {
      "cell_type": "code",
      "metadata": {
        "colab": {
          "base_uri": "https://localhost:8080/"
        },
        "id": "K-F02H4DBalQ",
        "outputId": "fd9bf414-4b8a-47cb-fe7d-02b9d8e6c47f"
      },
      "source": [
        "# Operador menor que\n",
        "29 > 25"
      ],
      "execution_count": null,
      "outputs": [
        {
          "output_type": "execute_result",
          "data": {
            "text/plain": [
              "True"
            ]
          },
          "metadata": {},
          "execution_count": 1
        }
      ]
    },
    {
      "cell_type": "code",
      "metadata": {
        "colab": {
          "base_uri": "https://localhost:8080/"
        },
        "id": "l4MdzC31BkHy",
        "outputId": "5882c45b-5084-44ef-88f8-89837d509ca0"
      },
      "source": [
        "# Operador menor o igual\n",
        "x = 90\n",
        "y = 12\n",
        "x <= y"
      ],
      "execution_count": null,
      "outputs": [
        {
          "output_type": "execute_result",
          "data": {
            "text/plain": [
              "False"
            ]
          },
          "metadata": {},
          "execution_count": 2
        }
      ]
    },
    {
      "cell_type": "code",
      "metadata": {
        "colab": {
          "base_uri": "https://localhost:8080/"
        },
        "id": "svZbMfSHB-Sl",
        "outputId": "555f870d-b7e4-4a43-bc68-2abba6ff701b"
      },
      "source": [
        "# Operador de igualdad\n",
        "x == y"
      ],
      "execution_count": null,
      "outputs": [
        {
          "output_type": "execute_result",
          "data": {
            "text/plain": [
              "False"
            ]
          },
          "metadata": {},
          "execution_count": 3
        }
      ]
    },
    {
      "cell_type": "markdown",
      "metadata": {
        "id": "uKjg6xUJw9Qz"
      },
      "source": [
        "## Conectores lógicos\n",
        "\n",
        "Para realizar operaciones lógicas existen los operadores and, or y not. Los valores que devuelven son:\n",
        "+ El operador **and** devuelve su primer operando si este es falso y el segundo en caso contrario.\n",
        "+ El operador **or** devuelve su primero operando si este es cierto y el segundo en caso contrario.\n",
        "+ El operador **not** devuelve False si su operando es cierto y True si es falso.\n",
        "\n",
        "Recordar las tablas de verdad:"
      ]
    },
    {
      "cell_type": "markdown",
      "source": [
        "![texto del enlace](https://encrypted-tbn0.gstatic.com/images?q=tbn:ANd9GcR54ip0N8DbVElHtxxssADpvnN1qzdescMWDg&usqp=CAU)\n",
        "\n",
        "A continuación se revisan algunos ejemplos de uso:"
      ],
      "metadata": {
        "id": "lodSgtl7K0o5"
      }
    },
    {
      "cell_type": "code",
      "metadata": {
        "colab": {
          "base_uri": "https://localhost:8080/"
        },
        "id": "ZOtmQEgoQAGy",
        "outputId": "49843a78-c7bd-483a-f387-74d6a6b9685c"
      },
      "source": [
        "# Define 2 variables numéricas\n",
        "a = 12\n",
        "b = 15\n",
        "# Conecta 2 condiciones\n",
        "a >= 10 and a % 2 == 0"
      ],
      "execution_count": null,
      "outputs": [
        {
          "output_type": "execute_result",
          "data": {
            "text/plain": [
              "True"
            ]
          },
          "metadata": {},
          "execution_count": 12
        }
      ]
    },
    {
      "cell_type": "code",
      "metadata": {
        "colab": {
          "base_uri": "https://localhost:8080/"
        },
        "id": "A2kOUdvjP5k5",
        "outputId": "f7527056-0eeb-4ec9-b663-d6e76d2bb4b3"
      },
      "source": [
        "# Conecta 2 condiciones y será verdadero cuando AL MENOS UNA DE ELLAS ES VERDADERA\n",
        "a <= 10 or a % 2 == 0"
      ],
      "execution_count": null,
      "outputs": [
        {
          "output_type": "execute_result",
          "data": {
            "text/plain": [
              "True"
            ]
          },
          "metadata": {},
          "execution_count": 13
        }
      ]
    },
    {
      "cell_type": "code",
      "metadata": {
        "colab": {
          "base_uri": "https://localhost:8080/"
        },
        "id": "NGNKwrlfxH8x",
        "outputId": "dd24a1ff-b335-4c8d-bfbb-3374148a7bbc"
      },
      "source": [
        "# Niega una condición\n",
        "not a % 2 == 0"
      ],
      "execution_count": null,
      "outputs": [
        {
          "output_type": "execute_result",
          "data": {
            "text/plain": [
              "False"
            ]
          },
          "metadata": {},
          "execution_count": 14
        }
      ]
    },
    {
      "cell_type": "code",
      "metadata": {
        "colab": {
          "base_uri": "https://localhost:8080/"
        },
        "id": "JKlr8MZ_Q_Kh",
        "outputId": "b149372f-109d-463f-c7ca-b213cc08276b"
      },
      "source": [
        "# Usando varios conectores\n",
        "b >= 15 and not a % 2 != 0"
      ],
      "execution_count": null,
      "outputs": [
        {
          "output_type": "execute_result",
          "data": {
            "text/plain": [
              "True"
            ]
          },
          "metadata": {},
          "execution_count": 15
        }
      ]
    },
    {
      "cell_type": "markdown",
      "metadata": {
        "id": "YQb3qKESd358"
      },
      "source": [
        "## Conversión de tipos de datos"
      ]
    },
    {
      "cell_type": "code",
      "metadata": {
        "colab": {
          "base_uri": "https://localhost:8080/"
        },
        "id": "VrZrkJW-d8nm",
        "outputId": "eb05588b-2112-4e61-d46f-4c261f39835f"
      },
      "source": [
        "# Define 2 variables una entera y otra es un decimal\n",
        "a = 29\n",
        "b = 2.6\n",
        "# Realiza la suma\n",
        "z = a + b\n",
        "# Imprime resultado\n",
        "print(z)"
      ],
      "execution_count": null,
      "outputs": [
        {
          "output_type": "stream",
          "name": "stdout",
          "text": [
            "31.6\n"
          ]
        }
      ]
    },
    {
      "cell_type": "code",
      "metadata": {
        "colab": {
          "base_uri": "https://localhost:8080/"
        },
        "id": "hQcT64aCfMr6",
        "outputId": "319dcde2-ea95-4ff5-b2a3-b4bc694c9da1"
      },
      "source": [
        "# Define una variable como cadena de caracteres\n",
        "a = \"Python\"\n",
        "# Define una variable numérica\n",
        "b = 29\n",
        "# Utiliza un operador ...\n",
        "z = a + str(b)\n",
        "# Imprime el resultado\n",
        "print(z)"
      ],
      "execution_count": null,
      "outputs": [
        {
          "output_type": "stream",
          "name": "stdout",
          "text": [
            "Python29\n"
          ]
        }
      ]
    },
    {
      "cell_type": "markdown",
      "source": [
        "![texto del enlace](https://encrypted-tbn0.gstatic.com/images?q=tbn:ANd9GcTLisENhREDEEraH9nNQfC_ftYAglqKgll-Lg&usqp=CAU)\n",
        "\n",
        "**¿Puede justificar o explicar el resultado de la celda anterior?**\n"
      ],
      "metadata": {
        "id": "umwpGsf8Mi83"
      }
    },
    {
      "cell_type": "code",
      "metadata": {
        "colab": {
          "base_uri": "https://localhost:8080/"
        },
        "id": "ZGJSRmBZyuwP",
        "outputId": "4d4d747c-aaba-49da-a34a-d1759829c032"
      },
      "source": [
        "# Utiliza nuevamente el operador +\n",
        "a = \"2\" + \"2\"\n",
        "# Ahora usa una función que convierte una cadena de caracteres a su representación numérica (si es que es posible)\n",
        "b = int(a) + 7\n",
        "# Imprime resultados\n",
        "print(a)\n",
        "print(b)"
      ],
      "execution_count": null,
      "outputs": [
        {
          "output_type": "stream",
          "name": "stdout",
          "text": [
            "22\n",
            "29\n"
          ]
        }
      ]
    },
    {
      "cell_type": "markdown",
      "source": [
        "**Nuevamente, ¿puede explicar los resultados anteriores?, tómese unos minutos para poder explicar/entender**\n",
        "\n",
        "![texto del enlace](https://encrypted-tbn0.gstatic.com/images?q=tbn:ANd9GcQu-JHqHiQqb2_3gScR8KerGy02q0-5pdTvRg&usqp=CAU)"
      ],
      "metadata": {
        "id": "BjmlPNkRNpc9"
      }
    },
    {
      "cell_type": "code",
      "metadata": {
        "colab": {
          "base_uri": "https://localhost:8080/"
        },
        "id": "9IoPEyfcgQSt",
        "outputId": "35c81af1-8fd8-4c54-ca12-b7f37f8a6d9e"
      },
      "source": [
        "# Trabajando con números complejos\n",
        "a = 4 + 2j\n",
        "b = 2 - 3j\n",
        "z = a + b\n",
        "print(z)"
      ],
      "execution_count": null,
      "outputs": [
        {
          "output_type": "stream",
          "name": "stdout",
          "text": [
            "(6-1j)\n"
          ]
        }
      ]
    },
    {
      "cell_type": "markdown",
      "source": [
        "## Ejercicios operadores matemáticos y E/S\n",
        "\n",
        "1. Leer desde teclado un número e imprimir el doble del número ingresado.\n",
        "2. Leer desde teclado un número e imprimir el resto de la división del número por 5.\n",
        "3. Leer desde teclado dos números enteros, x e y, e imprimir el resto de la división de x sobre y."
      ],
      "metadata": {
        "id": "kj3E_pmV0sfa"
      }
    },
    {
      "cell_type": "code",
      "source": [
        "# Escriba su código acá"
      ],
      "metadata": {
        "id": "rbt3Wnx5f7SL"
      },
      "execution_count": null,
      "outputs": []
    },
    {
      "cell_type": "markdown",
      "source": [
        "## Ejercicios operadores relacionales y conectores lógicos\n",
        "\n"
      ],
      "metadata": {
        "id": "Dqx17Yy-fr8i"
      }
    },
    {
      "cell_type": "markdown",
      "source": [
        "### Ejercicio 1\n",
        "Construir un programa que lea 2 números por teclado y determine los siguientes aspectos (es suficiene con mostrar True o False):\n",
        "\n",
        "+ Si los dos números son iguales\n",
        "+ Si los dos números son diferentes\n",
        "+ Si el primero es mayor que el segundo\n",
        "+ Si el segundo es mayor o igual que el primero"
      ],
      "metadata": {
        "id": "9FcYBYNviGR0"
      }
    },
    {
      "cell_type": "code",
      "source": [
        "# Escriba su código acá"
      ],
      "metadata": {
        "id": "y5UlKyzHf--k"
      },
      "execution_count": null,
      "outputs": []
    },
    {
      "cell_type": "markdown",
      "source": [
        "### Ejercicio 2\n",
        "\n",
        "Utilizando operadores lógicos, determine si una cadena de texto introducida por el usuario tiene una longitud mayor o igual que 3 y a su vez es menor que 10 (es suficiene con mostrar True o False)."
      ],
      "metadata": {
        "id": "qFnvDWSlg7mk"
      }
    },
    {
      "cell_type": "code",
      "source": [
        "# Escriba su código acá"
      ],
      "metadata": {
        "id": "vIJfO1FBg-n6"
      },
      "execution_count": null,
      "outputs": []
    },
    {
      "cell_type": "markdown",
      "source": [
        "\n",
        "\n",
        "---\n",
        "\n",
        "\n",
        "# Sesión 2\n",
        "\n",
        "\n",
        "---\n",
        "\n"
      ],
      "metadata": {
        "id": "Yv-75htBRgbR"
      }
    },
    {
      "cell_type": "markdown",
      "source": [
        "## Condiciones\n",
        "\n",
        "En programación sirven para bifurcar o discriminar la ejecución de ciertas instrucciones"
      ],
      "metadata": {
        "id": "xzXH2EfyQwVx"
      }
    },
    {
      "cell_type": "code",
      "metadata": {
        "id": "g8fJoX0B8UY4"
      },
      "source": [
        "x = int(input(\"Ingrese valor : \"))\n",
        "if x == 2:\n",
        "  print(\"Valor ingresado es 2\")"
      ],
      "execution_count": null,
      "outputs": []
    },
    {
      "cell_type": "code",
      "metadata": {
        "colab": {
          "base_uri": "https://localhost:8080/"
        },
        "id": "hOOa_-718gd5",
        "outputId": "a93fb0d6-a668-4643-af16-70e32b9ff065"
      },
      "source": [
        "x = int(input(\"Ingrese valor : \"))\n",
        "if x % 2 == 0:\n",
        "  print(\"Valor ingresado es par\")\n",
        "else:\n",
        "  print(\"Valor ingresado es impar\")"
      ],
      "execution_count": null,
      "outputs": [
        {
          "output_type": "stream",
          "name": "stdout",
          "text": [
            "Ingrese valor : 13\n",
            "Valor ingresado es impar\n"
          ]
        }
      ]
    },
    {
      "cell_type": "code",
      "metadata": {
        "id": "tLPn0Rg78EuD"
      },
      "source": [
        "x, y = 3, 6\n",
        "if x == y:\n",
        "  print(\"Variables distintas\")\n",
        "else:\n",
        "  print(\"Variables iguales\")"
      ],
      "execution_count": null,
      "outputs": []
    },
    {
      "cell_type": "code",
      "metadata": {
        "colab": {
          "base_uri": "https://localhost:8080/"
        },
        "id": "OpYwuaTc7MAp",
        "outputId": "f6380f86-dcf0-420e-e635-c5d3fc5d9a20"
      },
      "source": [
        "x = int(input(\"Ingresa un entero, por favor: \"))\n",
        "if x < 0:\n",
        "  print('Negativo')\n",
        "elif x == 0:\n",
        "  print('Cero')\n",
        "elif x == 1:\n",
        "  print('Unidad')\n",
        "else:\n",
        "  print('Mayor a 1')"
      ],
      "execution_count": null,
      "outputs": [
        {
          "output_type": "stream",
          "name": "stdout",
          "text": [
            "Ingresa un entero, por favor: 56\n",
            "Mayor a 1\n"
          ]
        }
      ]
    },
    {
      "cell_type": "markdown",
      "source": [
        "## Ejercicios - Condiciones"
      ],
      "metadata": {
        "id": "bsBBFePtSkb2"
      }
    },
    {
      "cell_type": "markdown",
      "source": [
        "### Ejercicio 1\n",
        "\n",
        "Construir un programa en Python que permita leer una edad e imprimir un mensaje que indique si es mayor de edad o no."
      ],
      "metadata": {
        "id": "KfWZhCa66Uq1"
      }
    },
    {
      "cell_type": "code",
      "source": [
        "# Escriba su código acá"
      ],
      "metadata": {
        "id": "VSjUjAbB6ijm"
      },
      "execution_count": null,
      "outputs": []
    },
    {
      "cell_type": "markdown",
      "source": [
        "### Ejercicio 2\n",
        "\n",
        "Construir un programa que lea dos números y muestre por pantalla su división. Si el divisor es cero el programa debe mostrar un error."
      ],
      "metadata": {
        "id": "LJN30xAQ6f5w"
      }
    },
    {
      "cell_type": "code",
      "source": [
        "# Escriba su código acá"
      ],
      "metadata": {
        "id": "1i58XcRC7iR5"
      },
      "execution_count": null,
      "outputs": []
    },
    {
      "cell_type": "markdown",
      "source": [
        "### Ejercicio 3\n",
        "\n",
        "Construir un programa que lea desde teclado la edad de una persona y una cadena de caracteres (si o no) para saber si tiene licencia de conducir y luego imprima en pantalla un mensaje para saber si la persona puede o no conducir.\n",
        "\n",
        "NOTA. Una persona puede conducir un vehículo si es mayor de edad y si tiene licencia"
      ],
      "metadata": {
        "id": "0pgbEfrj7twi"
      }
    },
    {
      "cell_type": "code",
      "source": [
        "# Escriba su código acá"
      ],
      "metadata": {
        "id": "EEMdK2f78EYV"
      },
      "execution_count": null,
      "outputs": []
    },
    {
      "cell_type": "markdown",
      "source": [
        "## Ciclos repetitivos\n",
        "\n",
        "En programación sirven para repetir una serie de instucciones"
      ],
      "metadata": {
        "id": "KcOd8ofpQzDu"
      }
    },
    {
      "cell_type": "markdown",
      "metadata": {
        "id": "z8jtCMxXvzgP"
      },
      "source": [
        "### Ciclo while"
      ]
    },
    {
      "cell_type": "code",
      "metadata": {
        "colab": {
          "base_uri": "https://localhost:8080/"
        },
        "id": "6Dg6-Q-V5LaM",
        "outputId": "20ad5dbe-25dd-40e6-ddb6-3f9c1184649b"
      },
      "source": [
        "a, b = 1, 5\n",
        "while a <= b:\n",
        "  print(a)\n",
        "  a = a + 1"
      ],
      "execution_count": null,
      "outputs": [
        {
          "output_type": "stream",
          "name": "stdout",
          "text": [
            "1\n",
            "2\n",
            "3\n",
            "4\n",
            "5\n"
          ]
        }
      ]
    },
    {
      "cell_type": "code",
      "source": [
        "a, b = 2, 15\n",
        "while a <= b:\n",
        "  print(a)\n",
        "  a = a + 2"
      ],
      "metadata": {
        "colab": {
          "base_uri": "https://localhost:8080/"
        },
        "id": "L4lhbAvn5u-1",
        "outputId": "39b8acde-0bbf-4cdc-afe1-23d50d6332ac"
      },
      "execution_count": 26,
      "outputs": [
        {
          "output_type": "stream",
          "name": "stdout",
          "text": [
            "2\n",
            "4\n",
            "6\n",
            "8\n",
            "10\n",
            "12\n",
            "14\n"
          ]
        }
      ]
    },
    {
      "cell_type": "markdown",
      "metadata": {
        "id": "BLDCxrZgvzdC"
      },
      "source": [
        "### Ciclo for"
      ]
    },
    {
      "cell_type": "code",
      "metadata": {
        "colab": {
          "base_uri": "https://localhost:8080/"
        },
        "id": "w2H_4gL06ADK",
        "outputId": "f3b5b325-fd63-438f-abe8-521931ba12e5"
      },
      "source": [
        "for a in range(1,5):\n",
        "  print(a)"
      ],
      "execution_count": null,
      "outputs": [
        {
          "output_type": "stream",
          "name": "stdout",
          "text": [
            "1\n",
            "2\n",
            "3\n",
            "4\n"
          ]
        }
      ]
    },
    {
      "cell_type": "code",
      "metadata": {
        "colab": {
          "base_uri": "https://localhost:8080/"
        },
        "id": "Bufj7FGaOXq-",
        "outputId": "558e0e26-8b52-4197-db30-84776ebf7484"
      },
      "source": [
        "for a in range(7):\n",
        "  print(a)"
      ],
      "execution_count": null,
      "outputs": [
        {
          "output_type": "stream",
          "name": "stdout",
          "text": [
            "0\n",
            "1\n",
            "2\n",
            "3\n",
            "4\n",
            "5\n",
            "6\n"
          ]
        }
      ]
    },
    {
      "cell_type": "code",
      "source": [
        "# Por si no se quiere ir de uno en uno\n",
        "for a in range(1, 15, 2):\n",
        "  print(a, end = \";\")"
      ],
      "metadata": {
        "colab": {
          "base_uri": "https://localhost:8080/"
        },
        "id": "uZqSdm6-5dlz",
        "outputId": "d28f1e53-d973-4a2b-96ab-cee369c4586f"
      },
      "execution_count": 25,
      "outputs": [
        {
          "output_type": "stream",
          "name": "stdout",
          "text": [
            "1;3;5;7;9;11;13;"
          ]
        }
      ]
    },
    {
      "cell_type": "code",
      "source": [
        "# Ahora en reversa\n",
        "for a in range(15, 1, -2):\n",
        "  print(a, end = \";\")"
      ],
      "metadata": {
        "colab": {
          "base_uri": "https://localhost:8080/"
        },
        "id": "4Ps4wtTb6BzS",
        "outputId": "aa3f222a-45b8-457b-bb59-106531d3e565"
      },
      "execution_count": 27,
      "outputs": [
        {
          "output_type": "stream",
          "name": "stdout",
          "text": [
            "15;13;11;9;7;5;3;"
          ]
        }
      ]
    },
    {
      "cell_type": "markdown",
      "source": [
        "## Ejercicios - Ciclos"
      ],
      "metadata": {
        "id": "U8_nCURoSqOC"
      }
    },
    {
      "cell_type": "markdown",
      "source": [
        "### Ejercicio 1\n",
        "Construir una solución en Python que permita leer un número positivo y muestre por pantalla todos los números impares desde 1 hasta ese número separados por coma."
      ],
      "metadata": {
        "id": "1dR2mAmuhG3D"
      }
    },
    {
      "cell_type": "code",
      "source": [
        "# Escriba su solución acá"
      ],
      "metadata": {
        "id": "ncox_KKfkDjI"
      },
      "execution_count": null,
      "outputs": []
    },
    {
      "cell_type": "markdown",
      "source": [
        "### Ejercicio 2\n",
        "Construir una solución en Python que permita ingresar al usuario una cantidad a invertir, el interés anual y el número de años, y muestre por pantalla el capital obtenido en la inversión cada año que dura la inversión"
      ],
      "metadata": {
        "id": "KM1_ZjS10hgM"
      }
    },
    {
      "cell_type": "code",
      "source": [
        "# Escriba su solución acá"
      ],
      "metadata": {
        "id": "D1AU3GsG2dkA"
      },
      "execution_count": null,
      "outputs": []
    },
    {
      "cell_type": "markdown",
      "source": [
        "### Ejercicio 3\n",
        "Construir una solución en Python que permita leer desde teclado un caracter y un número entero y permita imprimir una salida commo la que se indica a continuación (donde se ha ingresado una a y un 6)\n",
        "\n",
        "a\n",
        "\n",
        "aa\n",
        "\n",
        "aaa\n",
        "\n",
        "aaaa\n",
        "\n",
        "aaaaa\n",
        "\n",
        "aaaaaa"
      ],
      "metadata": {
        "id": "_FXTfYdpUe6H"
      }
    },
    {
      "cell_type": "code",
      "source": [
        "# Escriba su solución acá"
      ],
      "metadata": {
        "id": "HCB2BvxlVMrd"
      },
      "execution_count": null,
      "outputs": []
    },
    {
      "cell_type": "markdown",
      "source": [
        "### Ejercicio 4\n",
        "Construir una solución en Python que permita leer desde teclado dos números enteros: a y b; luego imprima la tabla de multiplicar de a desde 1 hasta b.\n",
        "\n",
        "Por ejemplo, a = 5 y b = 12, deberá imprimir la tabla de multiplicar del 5 desde a hasta el 12"
      ],
      "metadata": {
        "id": "Bls6AQTD4fft"
      }
    },
    {
      "cell_type": "code",
      "source": [
        "# Escriba su solución acá"
      ],
      "metadata": {
        "id": "OWaCt_uq4zRz"
      },
      "execution_count": null,
      "outputs": []
    },
    {
      "cell_type": "markdown",
      "source": [
        "\n",
        "\n",
        "---\n",
        "\n",
        "\n",
        "# Sesión 3\n",
        "\n",
        "\n",
        "---\n",
        "\n"
      ],
      "metadata": {
        "id": "2wcx2LSKRmv5"
      }
    },
    {
      "cell_type": "markdown",
      "source": [
        "## Concepto de arreglo\n",
        "\n",
        "Para trabajar con arreglos se utiliza una librería de Python, numpy, que contiene las funciones para todo el tratamiento numérico (de ahí el nombre *numeric python*)"
      ],
      "metadata": {
        "id": "Evug3oqzTHo3"
      }
    },
    {
      "cell_type": "code",
      "source": [
        "import numpy as np"
      ],
      "metadata": {
        "id": "64Mq5P2cWzNI"
      },
      "execution_count": 11,
      "outputs": []
    },
    {
      "cell_type": "markdown",
      "source": [
        "### Arreglos unidimensionales\n",
        "\n",
        "![texto del enlace](https://encrypted-tbn0.gstatic.com/images?q=tbn:ANd9GcQBJbV8hGhv6b-hzE3Hz91V9vgLmhwn0nZv2Q&usqp=CAU)"
      ],
      "metadata": {
        "id": "JasOZN7GZMKX"
      }
    },
    {
      "cell_type": "code",
      "source": [
        "# Crea un arreglo unidimensional\n",
        "a = np.zeros(5,)\n",
        "a"
      ],
      "metadata": {
        "colab": {
          "base_uri": "https://localhost:8080/"
        },
        "id": "U46rYVSmZIK6",
        "outputId": "726b0667-2599-44dd-94be-f762226664c2"
      },
      "execution_count": 12,
      "outputs": [
        {
          "output_type": "execute_result",
          "data": {
            "text/plain": [
              "array([0., 0., 0., 0., 0.])"
            ]
          },
          "metadata": {},
          "execution_count": 12
        }
      ]
    },
    {
      "cell_type": "code",
      "source": [
        "a = np.array([2,4,5,29])\n",
        "a"
      ],
      "metadata": {
        "colab": {
          "base_uri": "https://localhost:8080/"
        },
        "id": "zwgVNZ7CZZlm",
        "outputId": "fc071859-2215-42b1-d0a3-7ac040b295b4"
      },
      "execution_count": 13,
      "outputs": [
        {
          "output_type": "execute_result",
          "data": {
            "text/plain": [
              "array([ 2,  4,  5, 29])"
            ]
          },
          "metadata": {},
          "execution_count": 13
        }
      ]
    },
    {
      "cell_type": "code",
      "source": [
        "print(\"Cantidad elementos:\", len(a))\n",
        "print(\"Nro. dimensiones:\", a.ndim)\n",
        "print(\"Shape:\", a.shape)"
      ],
      "metadata": {
        "colab": {
          "base_uri": "https://localhost:8080/"
        },
        "id": "_m7IEcCkZnH1",
        "outputId": "9e33e5ab-dacb-447d-9710-a5aa10bb9910"
      },
      "execution_count": 14,
      "outputs": [
        {
          "output_type": "stream",
          "name": "stdout",
          "text": [
            "Cantidad elementos: 4\n",
            "Nro. dimensiones: 1\n",
            "Shape: (4,)\n"
          ]
        }
      ]
    },
    {
      "cell_type": "code",
      "source": [
        "# Accede a un elemento por su índice\n",
        "a[2]"
      ],
      "metadata": {
        "colab": {
          "base_uri": "https://localhost:8080/"
        },
        "id": "vq2Pk7QbbK6U",
        "outputId": "1172fb46-0002-45f7-9d91-c393a45259e3"
      },
      "execution_count": 15,
      "outputs": [
        {
          "output_type": "execute_result",
          "data": {
            "text/plain": [
              "5"
            ]
          },
          "metadata": {},
          "execution_count": 15
        }
      ]
    },
    {
      "cell_type": "code",
      "source": [
        "a.fill(15)\n",
        "a"
      ],
      "metadata": {
        "colab": {
          "base_uri": "https://localhost:8080/"
        },
        "id": "CLw9m_XhZ6j0",
        "outputId": "a68f4cad-77a7-4eb8-a4dc-21cc6b41f5bc"
      },
      "execution_count": 16,
      "outputs": [
        {
          "output_type": "execute_result",
          "data": {
            "text/plain": [
              "array([15, 15, 15, 15])"
            ]
          },
          "metadata": {},
          "execution_count": 16
        }
      ]
    },
    {
      "cell_type": "code",
      "source": [
        "a = np.array([3,15,25,30])\n",
        "print(\"Suma:\", np.sum(a))\n",
        "print(\"Promedio:\", np.mean(a))"
      ],
      "metadata": {
        "colab": {
          "base_uri": "https://localhost:8080/"
        },
        "id": "eyAGNR1qaG8E",
        "outputId": "20d42aab-701e-4e15-cd22-b1fbaee374ea"
      },
      "execution_count": 17,
      "outputs": [
        {
          "output_type": "stream",
          "name": "stdout",
          "text": [
            "Suma: 73\n",
            "Promedio: 18.25\n"
          ]
        }
      ]
    },
    {
      "cell_type": "markdown",
      "source": [
        "\n",
        "### Desafío\n",
        "\n",
        "\n",
        "---\n",
        "\n",
        "\n",
        "Intente resolver, usando ciclos, la obtención de la suma y promedio de los valores almacenados en el arreglo 'a'\n",
        "\n",
        "![texto del enlace](https://encrypted-tbn0.gstatic.com/images?q=tbn:ANd9GcQqnXGc_mHkZhV-1OmvAJyQU_juI-NrwSmKGg&usqp=CAU)"
      ],
      "metadata": {
        "id": "cXS0hwpoaX1R"
      }
    },
    {
      "cell_type": "markdown",
      "source": [
        "### Arreglos bidimensionales\n",
        "\n",
        "![texto del enlace](https://encrypted-tbn0.gstatic.com/images?q=tbn:ANd9GcTtZtjn50o0RcRaAml7LCMDDi9NoGIpKIRuvQ&usqp=CAU)"
      ],
      "metadata": {
        "id": "AjMKdq40ZPZH"
      }
    },
    {
      "cell_type": "code",
      "source": [
        "# Crea un arreglo bidimensional de 3 filas y 2 columnas con ceros\n",
        "a = np.zeros((3,2))\n",
        "a"
      ],
      "metadata": {
        "colab": {
          "base_uri": "https://localhost:8080/"
        },
        "id": "RVFc0BC1W5yp",
        "outputId": "f194d0cf-72d3-49e2-fd84-41e8120ac36a"
      },
      "execution_count": 18,
      "outputs": [
        {
          "output_type": "execute_result",
          "data": {
            "text/plain": [
              "array([[0., 0.],\n",
              "       [0., 0.],\n",
              "       [0., 0.]])"
            ]
          },
          "metadata": {},
          "execution_count": 18
        }
      ]
    },
    {
      "cell_type": "code",
      "source": [
        "print(\"Filas = \", len(a))\n",
        "print(\"Columnas = \", len(a[0]))\n",
        "print(\"shape = \", a.shape)\n",
        "print(\"Nro. dimensiones = \", a.ndim)"
      ],
      "metadata": {
        "colab": {
          "base_uri": "https://localhost:8080/"
        },
        "id": "roafFPWqXFYP",
        "outputId": "6a8dedb5-32c5-42b4-b3d2-a4b857f18a13"
      },
      "execution_count": 19,
      "outputs": [
        {
          "output_type": "stream",
          "name": "stdout",
          "text": [
            "Filas =  3\n",
            "Columnas =  2\n",
            "shape =  (3, 2)\n",
            "Nro. dimensiones =  2\n"
          ]
        }
      ]
    },
    {
      "cell_type": "code",
      "source": [
        "# Relleno\n",
        "a.fill(29)\n",
        "a"
      ],
      "metadata": {
        "colab": {
          "base_uri": "https://localhost:8080/"
        },
        "id": "-pzX7BzHXZjl",
        "outputId": "7be08ab2-0282-49e6-bc3a-3727a9e32a25"
      },
      "execution_count": 20,
      "outputs": [
        {
          "output_type": "execute_result",
          "data": {
            "text/plain": [
              "array([[29., 29.],\n",
              "       [29., 29.],\n",
              "       [29., 29.]])"
            ]
          },
          "metadata": {},
          "execution_count": 20
        }
      ]
    },
    {
      "cell_type": "code",
      "source": [
        "# Cambia la disposición de los elementos\n",
        "a = a.reshape((2,3))\n",
        "a"
      ],
      "metadata": {
        "colab": {
          "base_uri": "https://localhost:8080/"
        },
        "id": "Ove7jHglXfM_",
        "outputId": "4407bb19-9ca6-41c1-d435-ec9e3dc96c7f"
      },
      "execution_count": 21,
      "outputs": [
        {
          "output_type": "execute_result",
          "data": {
            "text/plain": [
              "array([[29., 29., 29.],\n",
              "       [29., 29., 29.]])"
            ]
          },
          "metadata": {},
          "execution_count": 21
        }
      ]
    },
    {
      "cell_type": "code",
      "source": [
        "a[1,2] = 15\n",
        "a"
      ],
      "metadata": {
        "colab": {
          "base_uri": "https://localhost:8080/"
        },
        "id": "OnBBilOsXj89",
        "outputId": "15fd9f86-5ae6-4a92-caa8-f30944ab76de"
      },
      "execution_count": 22,
      "outputs": [
        {
          "output_type": "execute_result",
          "data": {
            "text/plain": [
              "array([[29., 29., 29.],\n",
              "       [29., 29., 15.]])"
            ]
          },
          "metadata": {},
          "execution_count": 22
        }
      ]
    },
    {
      "cell_type": "code",
      "source": [
        "# Suma de arreglos\n",
        "a = a + [1,2,3]\n",
        "a"
      ],
      "metadata": {
        "colab": {
          "base_uri": "https://localhost:8080/"
        },
        "id": "Zf8Dj_7pXn1F",
        "outputId": "485649f2-1674-4050-ceae-73128933123b"
      },
      "execution_count": 23,
      "outputs": [
        {
          "output_type": "execute_result",
          "data": {
            "text/plain": [
              "array([[30., 31., 32.],\n",
              "       [30., 31., 18.]])"
            ]
          },
          "metadata": {},
          "execution_count": 23
        }
      ]
    },
    {
      "cell_type": "code",
      "source": [
        "b = np.diag(np.array([1, 2, 3, 4]))\n",
        "b"
      ],
      "metadata": {
        "colab": {
          "base_uri": "https://localhost:8080/"
        },
        "id": "XduMxZpRXu9W",
        "outputId": "8be25875-7568-4197-e3e0-a7d22f12906c"
      },
      "execution_count": 24,
      "outputs": [
        {
          "output_type": "execute_result",
          "data": {
            "text/plain": [
              "array([[1, 0, 0, 0],\n",
              "       [0, 2, 0, 0],\n",
              "       [0, 0, 3, 0],\n",
              "       [0, 0, 0, 4]])"
            ]
          },
          "metadata": {},
          "execution_count": 24
        }
      ]
    },
    {
      "cell_type": "code",
      "source": [
        "# Otra forma de crear un arreglo\n",
        "a = [[15,25,4],\n",
        "     [12,45,67],\n",
        "     [2,5,1],\n",
        "     [18,28,7]]\n",
        "a"
      ],
      "metadata": {
        "colab": {
          "base_uri": "https://localhost:8080/"
        },
        "id": "xrXJ1qxhX2Ty",
        "outputId": "c9262aa6-0657-4109-d650-845328228eea"
      },
      "execution_count": 25,
      "outputs": [
        {
          "output_type": "execute_result",
          "data": {
            "text/plain": [
              "[[15, 25, 4], [12, 45, 67], [2, 5, 1], [18, 28, 7]]"
            ]
          },
          "metadata": {},
          "execution_count": 25
        }
      ]
    },
    {
      "cell_type": "code",
      "source": [
        "# Crea una matriz a partir de otra\n",
        "b = np.array(a)\n",
        "b"
      ],
      "metadata": {
        "colab": {
          "base_uri": "https://localhost:8080/"
        },
        "id": "s9XkcE16X-yh",
        "outputId": "3f852713-d76a-43fd-93ad-e179a713a9c6"
      },
      "execution_count": 26,
      "outputs": [
        {
          "output_type": "execute_result",
          "data": {
            "text/plain": [
              "array([[15, 25,  4],\n",
              "       [12, 45, 67],\n",
              "       [ 2,  5,  1],\n",
              "       [18, 28,  7]])"
            ]
          },
          "metadata": {},
          "execution_count": 26
        }
      ]
    },
    {
      "cell_type": "code",
      "source": [
        "# Retorna el índice del elemento mayor dentro del arreglo\n",
        "b.argmax()"
      ],
      "metadata": {
        "colab": {
          "base_uri": "https://localhost:8080/"
        },
        "id": "1LtbADWgYDwQ",
        "outputId": "dd7aadbb-d159-47f8-f307-3faab803d202"
      },
      "execution_count": 27,
      "outputs": [
        {
          "output_type": "execute_result",
          "data": {
            "text/plain": [
              "5"
            ]
          },
          "metadata": {},
          "execution_count": 27
        }
      ]
    },
    {
      "cell_type": "code",
      "source": [
        "# Retorna los números de columnas donde (para cada fila) se encuentra el valor máximo\n",
        "b.argmax(1)"
      ],
      "metadata": {
        "colab": {
          "base_uri": "https://localhost:8080/"
        },
        "id": "fqEQ5BTbYHP5",
        "outputId": "a038e444-70bb-4e4f-99e6-bf6572616118"
      },
      "execution_count": 28,
      "outputs": [
        {
          "output_type": "execute_result",
          "data": {
            "text/plain": [
              "array([1, 2, 1, 1])"
            ]
          },
          "metadata": {},
          "execution_count": 28
        }
      ]
    },
    {
      "cell_type": "code",
      "source": [
        "# Crea una matriz de 3 filas y 4 columnas con valores correlativos partiendo por el o y llegando ghasta el 11\n",
        "X = np.matrix(np.arange(12).reshape((3,4)))\n",
        "X"
      ],
      "metadata": {
        "colab": {
          "base_uri": "https://localhost:8080/"
        },
        "id": "mkgGaKHrYVnH",
        "outputId": "681833ab-6812-464a-96c9-0bbc3395801e"
      },
      "execution_count": 31,
      "outputs": [
        {
          "output_type": "execute_result",
          "data": {
            "text/plain": [
              "matrix([[ 0,  1,  2,  3],\n",
              "        [ 4,  5,  6,  7],\n",
              "        [ 8,  9, 10, 11]])"
            ]
          },
          "metadata": {},
          "execution_count": 31
        }
      ]
    },
    {
      "cell_type": "code",
      "source": [
        "# Observe el uso de format para poder imprimir\n",
        "# Obtiene la suma de todos los elementos de la matriz\n",
        "print(\"Uso 1 ==> {0}\".format(X.sum()))\n",
        "# Obtiene la suma de los elementos por cada fila\n",
        "print(\"Uso 2 ==> {0}\".format(X.sum(axis=1)))\n",
        "# Obtiene la suma de los elementos por cada columna\n",
        "print(\"Uso 3 ==> {0}\".format(X.sum(axis=0)))"
      ],
      "metadata": {
        "colab": {
          "base_uri": "https://localhost:8080/"
        },
        "id": "ePf_qkA8YbaP",
        "outputId": "e36b6000-6dd8-4989-937c-2dc201f55bc9"
      },
      "execution_count": 32,
      "outputs": [
        {
          "output_type": "stream",
          "name": "stdout",
          "text": [
            "Uso 1 ==> 66\n",
            "Uso 2 ==> [[ 6]\n",
            " [22]\n",
            " [38]]\n",
            "Uso 3 ==> [[12 15 18 21]]\n"
          ]
        }
      ]
    },
    {
      "cell_type": "code",
      "source": [
        "# Lo mismo anterior, ahora considerando el promedio\n",
        "print(\"Uso 1 ==> {0}\".format(X.mean()))\n",
        "print(\"Uso 2 ==> {0}\".format(X.mean(axis=1)))\n",
        "print(\"Uso 3 ==> {0}\".format(X.mean(axis=0)))"
      ],
      "metadata": {
        "colab": {
          "base_uri": "https://localhost:8080/"
        },
        "id": "uj_QY_7zYkZR",
        "outputId": "cc826183-673a-4d87-db2f-b32108200038"
      },
      "execution_count": 33,
      "outputs": [
        {
          "output_type": "stream",
          "name": "stdout",
          "text": [
            "Uso 1 ==> 5.5\n",
            "Uso 2 ==> [[1.5]\n",
            " [5.5]\n",
            " [9.5]]\n",
            "Uso 3 ==> [[4. 5. 6. 7.]]\n"
          ]
        }
      ]
    },
    {
      "cell_type": "code",
      "source": [
        "# Otra forma, usando una función de Python que se encuentra en la librería numpy\n",
        "print(\"Uso 1 ==> {0}\".format(np.mean(X)))\n",
        "print(\"Uso 2 ==> {0}\".format(np.mean(X, axis=1)))\n",
        "print(\"Uso 3 ==> {0}\".format(np.mean(X, axis=0)))"
      ],
      "metadata": {
        "colab": {
          "base_uri": "https://localhost:8080/"
        },
        "id": "P6fvoP6ZYlOd",
        "outputId": "5bc6809f-b7b9-4f35-8bfa-4f0cb11615ad"
      },
      "execution_count": 34,
      "outputs": [
        {
          "output_type": "stream",
          "name": "stdout",
          "text": [
            "Uso 1 ==> 5.5\n",
            "Uso 2 ==> [[1.5]\n",
            " [5.5]\n",
            " [9.5]]\n",
            "Uso 3 ==> [[4. 5. 6. 7.]]\n"
          ]
        }
      ]
    },
    {
      "cell_type": "code",
      "source": [
        "# Genera matrices aleatorias de 4x4 y con valores entre 1 y 15\n",
        "r_matrix = np.random.randint(1,15,(4,4))\n",
        "s_matrix = np.random.randint(1,15,(4,4))"
      ],
      "metadata": {
        "id": "o4SRzmqKY0Ti"
      },
      "execution_count": 35,
      "outputs": []
    },
    {
      "cell_type": "code",
      "source": [
        "print(\"Matriz 1\\n\", r_matrix)\n",
        "print(\"Matriz 2\\n\", s_matrix)"
      ],
      "metadata": {
        "colab": {
          "base_uri": "https://localhost:8080/"
        },
        "id": "zaZy46vmY2sy",
        "outputId": "06ea37f4-acab-4a75-db08-a410529ff6ef"
      },
      "execution_count": 36,
      "outputs": [
        {
          "output_type": "stream",
          "name": "stdout",
          "text": [
            "Matriz 1\n",
            " [[ 9 12 13  4]\n",
            " [12  1  7  1]\n",
            " [ 5  2 13 14]\n",
            " [10  1 12  5]]\n",
            "Matriz 2\n",
            " [[ 2  3  3  5]\n",
            " [ 1 12 12 11]\n",
            " [12  9  2 10]\n",
            " [14 12 11  7]]\n"
          ]
        }
      ]
    },
    {
      "cell_type": "code",
      "source": [
        "# Suma de matrices\n",
        "print(\"Matriz 3\\n\", (r_matrix + s_matrix))"
      ],
      "metadata": {
        "colab": {
          "base_uri": "https://localhost:8080/"
        },
        "id": "XZfMCBHeY5QC",
        "outputId": "9628c09e-e470-4adb-897e-a7cd35a3b52f"
      },
      "execution_count": 37,
      "outputs": [
        {
          "output_type": "stream",
          "name": "stdout",
          "text": [
            "Matriz 3\n",
            " [[11 15 16  9]\n",
            " [13 13 19 12]\n",
            " [17 11 15 24]\n",
            " [24 13 23 12]]\n"
          ]
        }
      ]
    },
    {
      "cell_type": "code",
      "source": [
        "# Transpuesta de una matriz\n",
        "r_matrix.transpose()"
      ],
      "metadata": {
        "colab": {
          "base_uri": "https://localhost:8080/"
        },
        "id": "B6J-qFPHY8CB",
        "outputId": "69118cb6-67ca-4c23-c462-1b3e8e692f36"
      },
      "execution_count": 38,
      "outputs": [
        {
          "output_type": "execute_result",
          "data": {
            "text/plain": [
              "array([[ 9, 12,  5, 10],\n",
              "       [12,  1,  2,  1],\n",
              "       [13,  7, 13, 12],\n",
              "       [ 4,  1, 14,  5]])"
            ]
          },
          "metadata": {},
          "execution_count": 38
        }
      ]
    },
    {
      "cell_type": "code",
      "source": [
        "# Genera otras matrices aleatorias\n",
        "a_matrix = np.random.randint(2,5,(3,2))\n",
        "b_matrix = np.random.randint(1,4,(2,2))"
      ],
      "metadata": {
        "id": "Rlfm-IlQY_lh"
      },
      "execution_count": 39,
      "outputs": []
    },
    {
      "cell_type": "code",
      "source": [
        "print(\"Matriz 1\\n\", a_matrix)\n",
        "print(\"Matriz 2\\n\", b_matrix)\n",
        "print(\"Producto de matrices\\n\", np.dot(a_matrix,b_matrix))\n",
        "print(\"Producto por escalar\\n\", a_matrix*2)\n",
        "print(\"Potencia\\n\", b_matrix**3)"
      ],
      "metadata": {
        "colab": {
          "base_uri": "https://localhost:8080/"
        },
        "id": "wx8toL53ZCOp",
        "outputId": "6a5aec45-eb42-4921-9222-e0a9fc3c147d"
      },
      "execution_count": 40,
      "outputs": [
        {
          "output_type": "stream",
          "name": "stdout",
          "text": [
            "Matriz 1\n",
            " [[2 2]\n",
            " [4 3]\n",
            " [4 2]]\n",
            "Matriz 2\n",
            " [[2 1]\n",
            " [1 2]]\n",
            "Producto de matrices\n",
            " [[ 6  6]\n",
            " [11 10]\n",
            " [10  8]]\n",
            "Producto por escalar\n",
            " [[4 4]\n",
            " [8 6]\n",
            " [8 4]]\n",
            "Potencia\n",
            " [[8 1]\n",
            " [1 8]]\n"
          ]
        }
      ]
    },
    {
      "cell_type": "markdown",
      "source": [
        "### Resumen"
      ],
      "metadata": {
        "id": "P4ZDGQVecrNq"
      }
    },
    {
      "cell_type": "markdown",
      "source": [
        "![texto del enlace](data:image/png;base64,iVBORw0KGgoAAAANSUhEUgAAAXgAAACGCAMAAADgrGFJAAABPlBMVEX///8AAAAAX8b8/PwAgccAfsb9LAD9IgAAfMUAhMj///3z8/MAY8cAeMP5+fn29vbs7Ozl5eXNzc2Hh4fY2Njm5ub9GgDJycn9NwC5ubnb29sAh8rZ2dmdnZ2UlJQAXsf9AACoqKg+Pj5fX183Nze/v7/B3O//+Pb/8e5OTk5/f38qKioMDAzS5PNpaWl1dXUXFxeJq9iUuNv/5d//29IlJSXt9vvd7/hqqNf+rZ/9ZD5ISEj9Wj7Y4u5WVlam0eqRxeQllM9/u+C1zOQAbcb9Rhv9USz+iHj/0MX+lYX+uq2Ns9lRjs3N3OxGn9N1s9xkm9D+oZX+tab9bFD+f2X9blwrdMdqntGy2e5KptdZsNxtqdfM6faNvN9yt94AYrn/x7n9eVyswN/9hW39TyJJhc39cE39WjNSkM3+nockP9xDAAAYxklEQVR4nO2dCVvazteGJwQSFtkRwRSURVQUXMAgigIqiFqx7kutP2zrX/3+X+A9Z4IKSdBQoti+PNfVCslkMrlz5syZJYHkUqnizdXVTTFHXhdbKrFvJOlWFxui9CFx+dbZ+yB2I0H/Fq/EN9Pmio5us6+bzXY7/jO+gVUsl98uQJfnNkqXJtZNFx2S5Ip6n1SzivY6npu1mIvyXYmEbMOBXZHmLdUt9VIilbq4uXkj4TuAv2kW98JY75SkZJdf44fp0iik4M+12Xgl2yPWBZmVJq66rrJXxpS2hO8APmG/wgsQD+ydDB7Ad21KOkksG01400smY1m+qy70jkIOXkyl1DMVhbre4MUyvYCcUKYGBM1NrmlJuUQqR8uyYf6RSojSXmpUbM4B2xPv74ASgtG0QdAfWizSFodUvlwiURcuEoBNzNFCwzZRlAqN0li2S0sr+ERpWaAVjCR+lC6kHK6LxWvyAj53UUzgqSD/XLGksbqoy3Flx5yLdrxAUqwLQllqbotlu7FeIgmjRbAIJnMJTleql8vYuufKiYtlwXigd0OvUFEoWy7xfELZTlvO1AF8PMiRA7OApTLlyI/LXKlsERLEsQEpSdkklMuwT1sdvZQ401smfoertJgT9LRms2UZre5AMBqFDTAzCwVfEixGoZ4jqXKxBJXxsifTk5CXaRtbNAlXV2UzbkgYhdKNYGdzN5dlY/nqKgWlMJmgHHBJa/ayYLwql989DPphuioL0P5Yln9Q80iVzfWNOlSCxGVdsNSvoE38biybylewKVc34RVclkFGQVurVBYuL8sCRDUJwh6Yy6VcSrjA05UvEjflBNxwc70IN/9aAs/eQJKLOjjehGAx1Ut1oSeTTwngPnM0eshRlgkBTIcVyliP8WqhGaD2UzRDA5OjN9xsOhDBXK57Oa8Gicumi2W7SDbMF5u0ygkW+L+I/xGyLND7/t0ErHKmGwBvbB7GflfGQOoSjGasIZffU3g4Xs61CGc14yfwaDdmqNRiGdBQ8HBD4JQ3UM3ABZbEp/ryp4Iz5siGCS+maCqS6w1qLkXjj+cUCTvuZOu0nbuCvSl6m0oH7+3kU2Uj+8NehBKKF5YbWjnBu5WMFOuyhd73ZfwmXl2gP2oeVjIvazyBUL6ANiOHrgbC6eUDmnHK9BRBmRB0rgzhnmi8FB1S/HFpAfAWDAEvSr0BODAV2Tqtmz/M1weC/RLv4/cWc05QZ8QaaURVMiL4EnxyvHvjmjCVwRhuUhDpXuPlX9JSliQH3iyhZPgii9VVOgriBK0+0NgSq1yD86KkS/amIV/bD9gn8OZLhyhVqSs4YcK4ocPlFS0HFwLeQfbAZBEu6eWI9ZbwLWXH/gVrv3wB/zHx5Qbc4OuygJYG0WOO1MtYuCb4Awv148tPUeV1E7yjbNHc7TC2BYnXxe+mZZHcCM37lrBjrRcpePuVo1mlbix6gReFcl1yij/MBxR7TmSXyy8hS8pMwQvU4i/h4j8IvKNuhiYdQklk+x1wSxZ/IQPfxJSSwDsOTNqhGGXROVsGt71halp8zk6daR19PBi/WDcjkxIUSh/w0D20SGMVRSONJK/rG3BZeHW5EgZxKTN1epfYDkCAITZdzbtLtFigOAdGIw7UlMw/4F9JKiXuPbDQHt8z+KarKVm66OpgpNAUHQ2i4BNmGmhcXRPabYZ8r/EesOwGvexLMFKdwBfNJmmsAhqY8tVNXYCsc4LlcuNKoO17yk7BQwxVBz94QT4MvB3rWNFoQhtImOqiaLJcla4EE8V1YJSDR09Qgri7XK5vaIN/ZbwqlTY2bm5E9sYOMbLdDDYubpiM9bodsofMLutGwfQDrhiadQxmLwWLpawXeCI8FZ7c1KGDsoxXlKsL0FeQmnkpfiMX2LvCfSnTh7ianBGDGLa+TClik5mg/bsb6nE2pEIfPA2iiD9KeK8swB16UNrcPKC0o9CllaAHUC/Rlhq6keUD6KGy0Cuo/0jUN8DN4HUnDsqwfaOMHShdrjCReHbo4vV18yaIiYtmx1t86oDnLhJ0p3jxMcOVF/RsuVyzkA4sCpYgIQ0O0M2pNsRssZi4vr6mabUol7oowiEpTC5CXNnc/PxRxL802mSftztydMxkoIEGGmiggQbqr6zvkinoPfL9VyRuLu4t/tzc3NdzAsO6+XNxYWFvcbNvE+KfX3tb/40ZhoaGFvQ0T+vdGOq/rZ89ZsRu/tzcB+lSqlatQaaQdx8Xr5wbHmxYCn2LgH7GOvx1aLG3bNbOxgxjYwbDmN7knQ/NjPd0zli7vhkenO+U9dpdr+D3z/6z392dbRn0LqJ14ewOdDb0TeeMtevBsPBePV2xZ4vfP9v6mcP6qHszLa6hHvoI/qth773WBegCXn/3/iLHV4Mm8JPZWi3z9KWRz7yWVqusd4bz97L4XM+uJrF1tta+JbPb8bLZmjqSTK2WnWx+zuZrLWamEXxmu+LnCofSlwbv39bDUq13Q+2uZmr38LDRMflkI5+vqdb77NHu7m4D9HLxvYPf3DprD0gzx+M7nRI3AmpIrI/3PP97e0o6vOqvTr3sc3zTAj5T5flKgOcb+CV7z3EnuoA/G1pozadW4Px8YLuDT51agQJU1C598pjjAoFApRK4fb4yXcC3NatTBT6Q7ZA2U+W47Un51skT3h+o8Pwv+uUXx/1uAc+eawGfDxxnydSxH7OYOuUDeoE37LVQbozzhe3bAJdXT13lCzsngXG1az88PT09LlQ4Lv9cLF3At7oaa4C/7+RpJo8BiRJ8tnq/C4XjK7SMkKQN/IIW8JMNOCRT8D/C50c+cMvrAt5xZvjZCr66kyGTp/yhauIsV6H3vsNtsVprv/mWawfwPYbJMvCP/kJNgbapQ391hVeCJ9gqWnf4FfwY4H/x3YNHTZ5w45BRjfPnH/26gLdtGVp7l2xmEq2kg8XXuEqNZO47gSfsMV9puXRRD/AtHbtMgSucnm6r+hqAmt/xq4BHHQawyNYqf1vzt4J3QO9RUzlqVR6RTFXB2nf8J9ovoLPErSF5tz5b4AsdKvQ9V/lfhQtMqe8lR36ulYouFt/SuB4FOBDP1ZQJM8f8ifVRHXzmluduYccvvprJ/gn4yR3OX2hYydQJF9ip3fLHjU4AutCaHPxUHoIAlUujOuI5v1oT1ixgpb2u9w7+Zxv4Q766c3RY4H8rz3zCUySnKkh2K/7K4SRh8xCONMDZt8SjrDbw2zy/gwc18Lb7uQDXscp3IQC/2fo9c8LzJ7LKnDkE7ezSqlbN33IdWgCyi56oRb03rj+H7mwv3w5pJW9wvCLmyo43kYwrkEDy46yVBoWQBFrX8dvnfdrAZyFgoGecOvzfyspKhavc6tCFWtvaagU/CdXySG7Qj36e9/sDEFjxhSxUPL6qWtXA7H61HaoL+JZwUgKfDfDKoPEJyf/kSKwF/hct7eTuLSS55wIrjeed0LhqAJ/nj2uZbDbTbFJ3aFzZs2Tga/6A0s1M5UFHcEnbfgzhG4GKavvWCAQa7XnrAb4lgjjisO3J84EOqcHHK+tCpXIE1LJNU2n38drAP0IHhQPDa1amHX2imv128OBGj47y+Q6txw5/nIGuIKdq8VATCu3XrQv4liyhi3SyCxFKB09H1BrXWgWogRdqRiJ/Ar7GjyP68Ufp69H4jh5DdjLwj350ln5O/dpqPFc4Oa2o17VMxf/YvgXA9zgRstgGHrp3fijcScegSgXJ1P04Dz1qf7NBnhqvdg1eJhpx9y4Z+MxK4RhU2FVP3SiAAVXVR0syXEVWorWzHsFbZeBJ5vFku1PEBcq+jSTTetf+CLxOkoF/S5PZRqcgdrIh9/z7Z0Pd5K2UddFw954T5v0Ev9Yd+K6kB/ivA/DdC8D3No1hXXhn8JpGJ99H4laPVvmKNre21t5O9Yr+ZfC2dwSf2NqyvZ3qFQH4h38VvGNr6Pzn4ubmoq5zm/uLoJ/nQ//1hu1fBk/2zra2ts7OthZ0nPJmF86o7nrsP+F4+XuCd/QTPBH3N/fX1tZ0XWznsIo5yLPX1TD/NvhPrH8dvM2bHoGrBF8TCfWzHAqpgJ98rXc6Cep0o6wq+7StMng3uWeYaIg4k0lC0vE+lkMpAH/evqVW8HcYzQC0tRVuPPCo3rGe2qlwlR3ZPgB/rpr6YxRiIsNg9sk0gI/2sRxKKcAfVblAR/C7Af73Ci+bE2hq8sTP4SKP9gjC8dBP8Gxylv51Oj8/eD/Pycb8X5RZ8e9MTR35ebUEu1yhNrXLc+03xfEwtqBHOf9INt/69PCojbBu6OzEVumWoMfVt/K0il0Yawe/u3PfEXyW8+OfX3Qlh1w7/DaOn463+xqw+B4D3h6UZlATZHQpJIF3x5glJjbctwK1yKHw8ZmCygyZpBpPwR/571V25rlqvnHCywauHV/H+gc+mFxK+zw24psPERbAO2OzQXd6xte3ArWoK/DZAJ/H1lfV4ukKQ15eW/oKnozGvfjHw0SIIzZNIvCXpFfd/SvQixxyV6MGfnIKxeLUI1f5HeB42TyYdBy0ytUAt9Ju8c4+gw/jHw+4G9v6OvEy8CU9/TlczbkKeNl0C3vs5/3j2KJOHVYDgQrHq83Eb/OFxuShfHJSvOujjyfuJ4ufIK7pmATe+xeB376/v1+5pVuztdo9v6ISyE+d4go8dlvmhgB8/56BIu5oEv94mCAZXk2TMANeJjQz2r8CvQi79O29zUxBsbSEupqnTukhx6nF+Zlj3MzufCrwozNNiw/CPZgjvqWlUJKBL59ATjn4x/tAoLrbYVRgMnP0288dqu2d/MVXdzP5gNzV2A39i+OJj6EDNK6Imzi9wHsiHY9F5kJvjRKvbW4m9vf3XxvUFPFZ0s0eHjJWgOf8fv+4atcU1Kj4/dUj9XJn7+FIP3/b7oYAfB8t3pV8cSs2LLbN7SK2t6aO9ukw/tbZa9NXizjOP7T17Y/JA/j2iZBs9mVRmEK7/O/Oz4Vljn7975d8gQSA72Pj+mfaNJw9PHx9uHtlUtX68w5SPPwnf35Mu0St69f/ULYzw7vNe76XNsfuxDdfE4H71wyv3ZzXJX4zfF3DGZXe5szVct7HyZ/9syHdc35vbRrs2sq83wN4dmFoCx/AvrPr/TKKxbMtu91+Jn+o8C8QuBo5z8mj48KtokOf6AE8rr6kGtP5ZQ/suUHK+N1eJ/BuUoLPFvw8xyueDNjsBTyx7i8u/txb0L0JXFvcW1hY2EvoOMP/QUoY5IuVKhDLNU44+eNTAP4T/rDO36v9MTn47V9ZnAWqynqWPwfgddW+wuJRU7/4Y1n3ZtFw99c1YJ9ZSosHZU94Xj5Usmj4OgCvo1Qsnj2q+pVPJg/A66s1BfjJHXywUZFwAF5fKcHn1Z+c2huA11VK8L951Wej9gwPA/A6Sgme525PTk9P5Y1rN+DdobC0rsQWapvz9USePrlC2l4nFdY8Z+wKPQ3E2kKfY1HL61pTRDUBHqV4QHlvTPOw8ATDRCeIa91DRplI2/b1p4+++JIWOqOM1kWgLib+dI9cS8ynmPB8XWtj8iGDxuFhPp8/PJKNeQN4jeMhjtWZIFB1L020g7fNr7/AHmHmNNj8F83gY0ue58+emZjGo/ooJfgO0m7xziYttxPAt0w9hmdHmp8QeZjxKI5UyKcV/MRzQhy1CTEjryX+FNIMflEreNbNBB1QOVgnaYJ3jNKlhDNz0m5vnIFdNiYsjWzhXXA+W/9wZIL6atsoHoKLhJwR2OkeIe7YsHNilLhGYIdzzu2MRDAhOzwyDPkkGSnv8Mw8eBzH0pzW69dB7omgp/sXIHYBXlvj6pueZRhmxk2CjA/ATwC9OGwIkYlZNMrhNLMURYN0pOPU8fjWg8Q38wQqyMwzUBWcYXoIBU/NN8zYPMxIlGG8sMMF29PTDJN04DpFhkmT0Sg6F1eamZ+mFSn2gQu5fKvMn6wp2B/TOBGiFbw7HGO8wQknCc17KHjfUnxkIr4OABFJiAn5fGnEEpGaQPc0E47ONt2OayntGfF6YF9yIk0BR0hyxkccyXmnj4nPeGeZcBjuyJd5ZnpiLup2TM9GPGkG0oVo3mHf6BwuWgzNfpyvWZ0PuuKrXTfniTG7tkFH7T3XoOS9wzNo8SNskhklw9E54gWQQJAJDxPaSo8wklXa1pnnhjGMd8BBXNGojXjmQ5AmQuaiw8QxNwPgGbcHas1wPEl8s/MTJDLrxnWKsA/SIeg04x2lngtc/kQ3EHpREO+5T0uD1S6cc9WUUPuw8IRUimR8FMD7bLNJlrijXgCPTDzgieJfcP8TePDPTLI5kcHQpUHEjVXXFk2CewoCeDfAjQP4CbgZECWtx+DYJFYZ9zrESc65KJwS7Xx0dZ6J01W6no9bTxRCW3F3D35RK3jtM1ATUkyRjI5COOijjahtNSlZPPAcCcVn8MNIM9qOMF7vE6eneAhzcMW9JAjgvXADJfCQH64Pja2CmUUo+OmYjTi88abFQ96RpWkX+VCLD836MIj4A/AaPQhUDY3gmxTQ4n2MzxmPgTmvp8EDQwlZxBJm0MCbPp6Ep1mnt1luNGRiY4fxb5BBbwL/oK2AzJweAO9ehVZ4Lm7D7ZBgNA3ngIxpWwCXT3PF/z8wnvQwXtaxHu26Md/T2GaShNblCACEXrV3yQel8gGEZDDNxG00qhllpr1z8xj7sc2opk0RJhZJgr8JMzE4BL9DGMlE51YZCbwtNo0ZjwaxioCZeZj1IMQ5PjdGNT5m1Ts3O4MIPjKqmWNW43/g2TT3i/aVyxE6KCTFKJ6wi4yuu4nLG51Jh6Ij7EzMQWze1aUZfCiUDIOlKA5lQ6uz0eQwcYXjM2moECP4REt4Oh6LrTrdq6MYg4IfmfeNTqNjXRohoeml9fB6CNoJCOox7xjm7Zr/wDjeFl6dDnYfxy9oHQlY0wx+ZO7ZlFkX/pDi6BfowzrBjNEu3B4f7SHNzaq6RbeHLkRkfT5aLCniHHW5fNBVgqubgCwcI06CBu3AjIZ9LuJ2gVP3vuTNej+058q+uU5STd/HFK+dn8wfH28rFi9qB892uJPO6EuNdEJYqbmMWgQO6um0Di9tKvqg1S48zvmY/K0TmQK+SI6Xk88Zznp9MQh9BFeSL6b3s+fh2PPo5Hq/nmvXPKRH1MD/8h/v7h7jY41t0gF8q/T/dQdW5dMHq20Q/A19M8jBB/wNfG/lqSyhzuD/ETlb4bEInloUS1s3ljSNwMYSR9MRPqdXgq/wO1OZU17+Tso1w7v+vspfKcdE2osBjS0YwRkIB4AfToLH83iJb2bU5w3ZgmF0+/GJL8k5jCXcwXBEegDW+qAAfxTgKwFO8YjS2sDiFYowqzMA2zWHQ6TQP4fPtBMDXboJJhJnmBh95psw6/B53UY80B+BHg0eqgK+FuDwVQPy5cIDi1foy+wc6wy6IU4OOTBWRvDheR8FP8LMrkdm5oOeWYhzkXqQcQ3HZ90sfRqzBXzmpFAoVPHZogpXaexWFYtWB+AV8s7SDos7iq/sAMAuAO+d+YJjIsQzH7WNzoTp9A+L0xMjjCuCIzpy8NnfFRDQzo6jl8lW5I87DsDLxcaTtCX1zWKXZN5L3GjxSz4JPHymTx5Pxxwu7KQD+DSO6MjBs9lajf4sWMO/ksHfC+KO2k8zAC8XOyuF7RJ4sHgfuJsIdsjD6GomiAuH9NKrw3TKn4IfpvtQ1q9yH58dxxes5+XvkB+AVyod9zlsIz5XbNZmCwPoEQAP8G0uLyPNEKyvE6wCeENgpyfCjLDQrZYaVwV48j+OPkoq//GxQVSjkG9pPrnOeAHy0iozRyh42wwTnWckiyc4lgq0h9Hiwfe4ZiD9rNS9VQE/lYd29vRQ/vTv/gC8Ql+S8VjQRtiR9Wlcx+bygivxeWNhb1R66jgWxTFUD8F54OHYBOyb9nq8EnhlOAnoMxnlw78D8CpiHc0lKtIIiNRasrT7ip9dOHzkbG530PTSflWL76ABeF2lavGqGoDXVV2B/+uenv7E0g4+MQCvpwbg+6QB+D7JqhyP7yDNb5sYSJMG4PukLsD38hKJgeT6Ntb+4/Ykkz86oj9Tn22/IQPw+gosvh38CS/9TH2g2j4TMgCvrxQWv3uKqip+33jw9g59dS4HT/AVZNkCfywbJxuA11dq4PEVvpx8JdngXQb66ly5dhJ/ppY/km8bgNdXquCPFa8JGoDXW9/HzhWLe7MBlTcqD14ioa/U1sfvKFpWguD//BW3Aym1oHwiJHuvfD8TJDRofZfBQFqkAj7PVVTeqfzdoNIYDPTHUj58NnXsv1Wms54bzv++t2p+Yu0pHrfM3CtieNLN+PFAmqQEb82q/VAQgn/PH6j8fyetDxjjVNUAvI7S+nI9XIAzAK+jFg32zX3QK0O+a7h//25oAF5PrQ0NDW2BHjoOPVrvcD+kSnxkuf59bT7Q3zJ4ZTzgG03wdf8vM/j/A8mx5xoh6FqoAAAAAElFTkSuQmCC)"
      ],
      "metadata": {
        "id": "5li5HYNWcWcn"
      }
    },
    {
      "cell_type": "markdown",
      "metadata": {
        "id": "aIcF7lMEAicP"
      },
      "source": [
        "## Colecciones\n",
        "\n",
        "Python tiene varios tipos de datos compuestos, usados para agrupar otros valores."
      ]
    },
    {
      "cell_type": "markdown",
      "metadata": {
        "id": "n153H-TEAvXp"
      },
      "source": [
        "### Listas\n",
        "\n",
        "El más versátil de todos los tipos de datos compuestos es la ***lista***, la cual puede ser escrita como una lista de valores separados por coma (ítems) entre corchetes. No es necesario que los ítems de una lista tengan todos el mismo tipo."
      ]
    },
    {
      "cell_type": "code",
      "metadata": {
        "colab": {
          "base_uri": "https://localhost:8080/"
        },
        "id": "5nIPFQgwCTUF",
        "outputId": "bf380a2e-7c67-465d-b43a-d8e0f51de0d8"
      },
      "source": [
        "# Declara la lista\n",
        "lista = []\n",
        "print(lista)\n",
        "# Agrega un elemento a la lista\n",
        "lista.append(29)\n",
        "print(lista)\n",
        "# Agrega otro elemento a la lista\n",
        "lista.append(25)\n",
        "print(lista)"
      ],
      "execution_count": null,
      "outputs": [
        {
          "output_type": "stream",
          "name": "stdout",
          "text": [
            "[]\n",
            "[29]\n",
            "[29, 25]\n"
          ]
        }
      ]
    },
    {
      "cell_type": "code",
      "metadata": {
        "colab": {
          "base_uri": "https://localhost:8080/"
        },
        "id": "mvOOzSuPE5hG",
        "outputId": "ab0d23bc-7587-4e02-aac9-3d7987d446ba"
      },
      "source": [
        "lista.sort()\n",
        "print(lista)"
      ],
      "execution_count": null,
      "outputs": [
        {
          "output_type": "stream",
          "name": "stdout",
          "text": [
            "[25, 29]\n"
          ]
        }
      ]
    },
    {
      "cell_type": "code",
      "metadata": {
        "colab": {
          "base_uri": "https://localhost:8080/"
        },
        "id": "0Q4gQmZ-FAoK",
        "outputId": "fdb8f3b7-8056-4775-9d04-071a9babd8a4"
      },
      "source": [
        "# Agrega elementos de varios tipos de datos\n",
        "lista.append(\"trabajando con listas\")\n",
        "print(lista)\n",
        "lista.append(24.3)\n",
        "print(lista)\n",
        "# ¿Qué pasará si se repiten los elementos?\n",
        "lista.append(24.3)\n",
        "print(lista)"
      ],
      "execution_count": null,
      "outputs": [
        {
          "output_type": "stream",
          "name": "stdout",
          "text": [
            "[25, 29, 'trabajando con listas']\n",
            "[25, 29, 'trabajando con listas', 24.3]\n",
            "[25, 29, 'trabajando con listas', 24.3, 24.3]\n"
          ]
        }
      ]
    },
    {
      "cell_type": "code",
      "metadata": {
        "colab": {
          "base_uri": "https://localhost:8080/"
        },
        "id": "sP8Z31kEChvv",
        "outputId": "a6753517-3527-4a0e-cca0-7d82f5b895cf"
      },
      "source": [
        "# Obtiene el índice que ocupa un elemento dentro de la lista\n",
        "print(lista.index(29))\n",
        "# Obtiene la cantidad de ocurrencias del elemento\n",
        "print(lista.count(15))\n",
        "print(lista.count(24.3))"
      ],
      "execution_count": null,
      "outputs": [
        {
          "output_type": "stream",
          "name": "stdout",
          "text": [
            "1\n",
            "0\n",
            "2\n"
          ]
        }
      ]
    },
    {
      "cell_type": "markdown",
      "metadata": {
        "id": "fm3UfOVm2o8M"
      },
      "source": [
        "### Acceso a los elementos de la lista"
      ]
    },
    {
      "cell_type": "code",
      "metadata": {
        "colab": {
          "base_uri": "https://localhost:8080/"
        },
        "id": "XF6pDCHB2P5i",
        "outputId": "d6457eb1-53ac-4e72-eba2-dc274617a561"
      },
      "source": [
        "# Acceso a los elementos dado su índice\n",
        "print(lista)\n",
        "print(lista[0])\n",
        "print(lista[4])\n",
        "# En este caso va de derecha a izquierda\n",
        "print(lista[-3])"
      ],
      "execution_count": null,
      "outputs": [
        {
          "output_type": "stream",
          "name": "stdout",
          "text": [
            "[25, 29, 'trabajando con listas', 24.3, 24.3]\n",
            "25\n",
            "24.3\n",
            "trabajando con listas\n"
          ]
        }
      ]
    },
    {
      "cell_type": "code",
      "metadata": {
        "colab": {
          "base_uri": "https://localhost:8080/"
        },
        "id": "uyscYjLNI3-U",
        "outputId": "4ffe21e7-d94b-4c7e-edb5-721d4f9b468f"
      },
      "source": [
        "# Remueve elementos de la lista\n",
        "lista.remove(24.3)\n",
        "# Imprime contenido de la lista\n",
        "print(lista)"
      ],
      "execution_count": null,
      "outputs": [
        {
          "output_type": "stream",
          "name": "stdout",
          "text": [
            "[25, 29, 'trabajando con listas', 24.3]\n"
          ]
        }
      ]
    },
    {
      "cell_type": "code",
      "metadata": {
        "colab": {
          "base_uri": "https://localhost:8080/"
        },
        "id": "JxPjq8YqJSbO",
        "outputId": "a3ae5b24-90f2-4caa-d37d-f350945d95bc"
      },
      "source": [
        "# Inserta un elemento en un deterninado índice\n",
        "lista.insert(3, \"Nuevo\")\n",
        "# Imprime el contenido de la lista\n",
        "print(lista)"
      ],
      "execution_count": null,
      "outputs": [
        {
          "output_type": "stream",
          "name": "stdout",
          "text": [
            "[25, 29, 'trabajando con listas', 'Nuevo', 24.3]\n"
          ]
        }
      ]
    },
    {
      "cell_type": "code",
      "metadata": {
        "colab": {
          "base_uri": "https://localhost:8080/"
        },
        "id": "U8I2bnel9nks",
        "outputId": "8550f21e-3f4e-475c-b8aa-686f473f1233"
      },
      "source": [
        "# Accede a algunos elementos de la lista\n",
        "lista = [12,34,29,6,15,9,30,3,4,1]\n",
        "print(lista[0:2])"
      ],
      "execution_count": null,
      "outputs": [
        {
          "output_type": "stream",
          "name": "stdout",
          "text": [
            "[12, 34]\n"
          ]
        }
      ]
    },
    {
      "cell_type": "markdown",
      "metadata": {
        "id": "gUZ-nNEhJaD9"
      },
      "source": [
        "### Uso de slices\n",
        "\n",
        "Python tiene algunas propiedades especiales a la hora de tratar con listas. Se puede cortar una lista desde su inicio hasta determinado lugar, o desde determinado lugar hasta el final. A esto se le conoce como ***notación slice***."
      ]
    },
    {
      "cell_type": "code",
      "metadata": {
        "colab": {
          "base_uri": "https://localhost:8080/"
        },
        "id": "pyFr0UVJ-GfS",
        "outputId": "3d003ccf-1291-4963-9df6-84ebcd5db3bb"
      },
      "source": [
        "lst_y = ['a','e','i','o','u',1,2,3,4,5]\n",
        "print(\"1:\", lst_y[:2])\n",
        "print(\"2:\", lst_y[-3])\n",
        "print(\"3:\", lst_y[-3:])\n",
        "print(\"4:\", lst_y[3:5])"
      ],
      "execution_count": null,
      "outputs": [
        {
          "output_type": "stream",
          "name": "stdout",
          "text": [
            "1: ['a', 'e']\n",
            "2: 3\n",
            "3: [3, 4, 5]\n",
            "4: ['o', 'u']\n"
          ]
        }
      ]
    },
    {
      "cell_type": "markdown",
      "metadata": {
        "id": "OrLMbAI92vT6"
      },
      "source": [
        "### Operaciones con listas"
      ]
    },
    {
      "cell_type": "code",
      "metadata": {
        "colab": {
          "base_uri": "https://localhost:8080/"
        },
        "id": "I6AUBMDFKBcz",
        "outputId": "97ed3f39-50a5-4fa2-ba9a-8c1f0bd81f77"
      },
      "source": [
        "lista_a = [15,25,3,30]\n",
        "lista_b = [3,4,5]\n",
        "lista_c = lista_a + lista_b\n",
        "print(lista_c)"
      ],
      "execution_count": null,
      "outputs": [
        {
          "output_type": "stream",
          "name": "stdout",
          "text": [
            "[15, 25, 3, 30, 3, 4, 5]\n"
          ]
        }
      ]
    },
    {
      "cell_type": "code",
      "metadata": {
        "colab": {
          "base_uri": "https://localhost:8080/"
        },
        "id": "BsWnnd1z3jid",
        "outputId": "2b4e6658-ad0c-452e-cccf-76370b7d7799"
      },
      "source": [
        "lista_c[4] = lista_c[4] + 6\n",
        "print(lista_c)"
      ],
      "execution_count": null,
      "outputs": [
        {
          "output_type": "stream",
          "name": "stdout",
          "text": [
            "[15, 25, 3, 30, 9, 4, 5]\n"
          ]
        }
      ]
    },
    {
      "cell_type": "code",
      "metadata": {
        "colab": {
          "base_uri": "https://localhost:8080/"
        },
        "id": "w-kAv0Zx3ywX",
        "outputId": "8d9bcb42-a1c6-4935-f9c7-5b9630308642"
      },
      "source": [
        "x = len(lista_c)\n",
        "print(x)"
      ],
      "execution_count": null,
      "outputs": [
        {
          "output_type": "stream",
          "name": "stdout",
          "text": [
            "7\n"
          ]
        }
      ]
    },
    {
      "cell_type": "markdown",
      "metadata": {
        "id": "u6_iCMHxBTng"
      },
      "source": [
        "### Colecciones y ciclos"
      ]
    },
    {
      "cell_type": "code",
      "metadata": {
        "colab": {
          "base_uri": "https://localhost:8080/"
        },
        "id": "Ss18sr4I6Mqn",
        "outputId": "d503640d-b2f4-415d-c611-da3f1a8c8bb6"
      },
      "source": [
        "lista = ['Libro','Cine','TV']\n",
        "for a in lista:\n",
        "  print(a)"
      ],
      "execution_count": null,
      "outputs": [
        {
          "output_type": "stream",
          "name": "stdout",
          "text": [
            "Libro\n",
            "Cine\n",
            "TV\n"
          ]
        }
      ]
    },
    {
      "cell_type": "code",
      "metadata": {
        "colab": {
          "base_uri": "https://localhost:8080/"
        },
        "id": "S5vzqCAO9EwS",
        "outputId": "01cedde6-8721-431f-ca4c-cf5f10513272"
      },
      "source": [
        "lista = [15,13,7,5,4,135,29]\n",
        "for valor in lista:\n",
        "  print(valor)\n",
        "  if valor % 2 == 0:\n",
        "    break"
      ],
      "execution_count": null,
      "outputs": [
        {
          "output_type": "stream",
          "name": "stdout",
          "text": [
            "15\n",
            "13\n",
            "7\n",
            "5\n",
            "4\n"
          ]
        }
      ]
    },
    {
      "cell_type": "code",
      "metadata": {
        "colab": {
          "base_uri": "https://localhost:8080/"
        },
        "id": "yJN-jw3MOqVe",
        "outputId": "73ceb430-9c2a-4029-9ffa-79c4f7806ed0"
      },
      "source": [
        "lista = [15,13,7,5,4,135,29]\n",
        "for valor in lista:\n",
        "  if valor % 2 == 0:\n",
        "    pass\n",
        "  else:\n",
        "    print(valor)"
      ],
      "execution_count": null,
      "outputs": [
        {
          "output_type": "stream",
          "name": "stdout",
          "text": [
            "15\n",
            "13\n",
            "7\n",
            "5\n",
            "135\n",
            "29\n"
          ]
        }
      ]
    },
    {
      "cell_type": "code",
      "metadata": {
        "colab": {
          "base_uri": "https://localhost:8080/"
        },
        "id": "h4TTbtKgO4J3",
        "outputId": "09b5749a-926e-4b46-d61f-c3cef03c2d0a"
      },
      "source": [
        "lista = [15,13,7,5,4,135,29]\n",
        "for valor in lista:\n",
        "  if valor % 2 != 0:\n",
        "    print(valor)"
      ],
      "execution_count": null,
      "outputs": [
        {
          "output_type": "stream",
          "name": "stdout",
          "text": [
            "15\n",
            "13\n",
            "7\n",
            "5\n",
            "135\n",
            "29\n"
          ]
        }
      ]
    },
    {
      "cell_type": "code",
      "metadata": {
        "colab": {
          "base_uri": "https://localhost:8080/"
        },
        "id": "iMZ6CBje9isx",
        "outputId": "3a4abf78-2684-48ae-d1f1-b758ad96325a"
      },
      "source": [
        "lista = [15,13,7,5,4,135,29]\n",
        "tx, ty = 0,0\n",
        "for valor in lista:\n",
        "  if valor % 2 == 0:\n",
        "    tx = tx + 1\n",
        "  else:\n",
        "    ty = ty + 1\n",
        "print(tx)\n",
        "print(ty)"
      ],
      "execution_count": null,
      "outputs": [
        {
          "output_type": "stream",
          "name": "stdout",
          "text": [
            "1\n",
            "6\n"
          ]
        }
      ]
    },
    {
      "cell_type": "markdown",
      "source": [
        "### Ejercicios de colecciones"
      ],
      "metadata": {
        "id": "iXpyJJsbjL4j"
      }
    },
    {
      "cell_type": "markdown",
      "source": [
        "## Ejercicios cierre"
      ],
      "metadata": {
        "id": "lUIiuFi9hbSL"
      }
    },
    {
      "cell_type": "markdown",
      "source": [
        "### Ejercicio 1\n",
        "\n",
        "Visualizar los elementos de una una columna de la matriz a partir del ingreso de la columna. Validar la la columna a ingresar"
      ],
      "metadata": {
        "id": "h50H-aIOigI8"
      }
    },
    {
      "cell_type": "code",
      "source": [
        "# datos contenidos en una lista de lista\n",
        "datos=[\n",
        "       [3,5,7,1,9],\n",
        "       [6,2,4,8,6],\n",
        "       [8,7,5,2,1],\n",
        "       [9,3,1,4,6],\n",
        "       [7,5,9,3,7]\n",
        "       ]\n",
        "\n",
        "# Creando matriz a patir de la lista de lista\n",
        "matriz = np.array(datos)\n",
        "\n",
        "# Visualizar el contenido de la matriz\n",
        "print(matriz)\n",
        "\n",
        "# Escriba su código acá"
      ],
      "metadata": {
        "id": "YTTUD6O7iiyp"
      },
      "execution_count": null,
      "outputs": []
    },
    {
      "cell_type": "markdown",
      "source": [
        "### Ejercicio 2\n",
        "\n",
        "Se desea generar un arreglo de dimensión 100 con elementos de tipo entero, correspondiente a kilometros recorridos por un vehiculo. De este arreglo se desea obtener la siguiente información.\n",
        "\n",
        "* Cantidad de elementos que contiene el arreglo\n",
        "* Total de kilometros recorridos\n",
        "* kilometraje mayor recorrido y posición de su primera ocurrencia\n",
        "* kilometraje menor recorrido y posición de la última ocurrencia\n",
        "* Kilometraje promedio recorrido\n",
        "* Total de ocurrencias de kilometrajes mayores al promedio de kilometajes recorrido"
      ],
      "metadata": {
        "id": "HjCsquvLiBWX"
      }
    },
    {
      "cell_type": "code",
      "source": [
        "# Datos de una matriz generados aleatoreamente\n",
        "datos = np.random.randint(100,500, size=(100,100))\n",
        "\n",
        "# datos contenidos en una lista de lista (estatica)\n",
        "\"\"\"\n",
        "datos=[\n",
        "       [443, 141, 358, 273, 436, 386, 459, 280, 429, 483],\n",
        "       [346, 431, 480, 143, 398, 226, 204, 304, 410, 455],\n",
        "       [318, 489, 101, 412, 131, 225, 164, 295, 225, 256],\n",
        "       [476, 453, 151, 309, 357, 121, 464, 104, 249, 380],\n",
        "       [400, 211, 152, 442, 312, 397, 146, 183, 447, 352],\n",
        "       [182, 367, 323, 316, 289, 300, 393, 379, 475, 209],\n",
        "       [497, 117, 165, 170, 176, 369, 410, 284, 166, 204],\n",
        "       [487, 157, 187, 271, 140, 375, 381, 395, 195, 328],\n",
        "       [419, 422, 333, 418, 241, 244, 240, 465, 199, 257],\n",
        "       [351, 305, 156, 456, 148, 446, 431, 273, 375, 498]\n",
        "       ]\n",
        "\"\"\"\n",
        "\n",
        "# Escriba su código acá"
      ],
      "metadata": {
        "id": "JpeNvH0miOXv"
      },
      "execution_count": null,
      "outputs": []
    },
    {
      "cell_type": "markdown",
      "source": [
        "### Ejercicio 3\n",
        "\n",
        "Escribir las instrucciones necesarias para:\n",
        "\n",
        "+ Leer un número entero n.\n",
        "+ Leer n valores enteros y guardarlos en una lista llamada numeros.\n",
        "+ Imprimir la suma de los valores almacenados en la lista; deberá recorrer la lista.\n",
        "+ Imprimir el promedio de los valores almacenados en la lista; deberá recorrer la lista.\n",
        "+ Imprimir los elementos de la lista que son mayores al promedio."
      ],
      "metadata": {
        "id": "y4af628Yhd6x"
      }
    },
    {
      "cell_type": "code",
      "source": [
        "# Escriba su código acá"
      ],
      "metadata": {
        "id": "lyVDk2AihhWg"
      },
      "execution_count": null,
      "outputs": []
    },
    {
      "cell_type": "markdown",
      "source": [
        "\n",
        "\n",
        "---\n",
        "\n",
        "\n",
        "# Bonus track\n",
        "\n",
        "\n",
        "---\n",
        "\n"
      ],
      "metadata": {
        "id": "JMvi_-UQdGD5"
      }
    },
    {
      "cell_type": "markdown",
      "metadata": {
        "id": "PXEeJNwLArYb"
      },
      "source": [
        "## Tuplas\n",
        "\n",
        "\n",
        "Se sabe que las listas tienen propiedades como el indizado y las operaciones de seccionado. Estas son dos ejemplos de datos de tipo secuencia.\n",
        "\n",
        "Como Python es un lenguaje en evolución, otros datos de tipo secuencia pueden agregarse. Existe otro dato de tipo secuencia estándar: la tupla.\n",
        "\n",
        "Una tupla consiste de un número de valores separados por comas"
      ]
    },
    {
      "cell_type": "code",
      "metadata": {
        "id": "yvYJC0vGCYxf",
        "colab": {
          "base_uri": "https://localhost:8080/"
        },
        "outputId": "00a2caac-ad90-4b80-c780-2116576b7a2b"
      },
      "source": [
        "t = ()\n",
        "print(t.count(29))\n",
        "tx = (15,25,30,3)\n",
        "# Cuenta la cantidad de ocurrencias del elemento\n",
        "print(tx.count(15))\n",
        "print(tx.count(150))\n",
        "# Retorna el índice del elemento indicado\n",
        "print(tx.index(25))"
      ],
      "execution_count": null,
      "outputs": [
        {
          "output_type": "stream",
          "name": "stdout",
          "text": [
            "0\n",
            "1\n",
            "0\n",
            "1\n"
          ]
        }
      ]
    },
    {
      "cell_type": "code",
      "metadata": {
        "colab": {
          "base_uri": "https://localhost:8080/"
        },
        "id": "Ry7eCfjCAIAe",
        "outputId": "c815fd70-975d-4428-fd4c-a49a8f229b4c"
      },
      "source": [
        "t = 29,\n",
        "print(t)\n",
        "print(type(t))\n",
        "print(len(t))"
      ],
      "execution_count": null,
      "outputs": [
        {
          "output_type": "stream",
          "name": "stdout",
          "text": [
            "(29,)\n",
            "<class 'tuple'>\n",
            "1\n"
          ]
        }
      ]
    },
    {
      "cell_type": "code",
      "metadata": {
        "colab": {
          "base_uri": "https://localhost:8080/"
        },
        "id": "FCW2hBcl-k1z",
        "outputId": "400b39cf-82cd-4a34-c805-b08f04242236"
      },
      "source": [
        "tx = (15,12,4)\n",
        "ty = (25,15,8)\n",
        "tx < ty"
      ],
      "execution_count": null,
      "outputs": [
        {
          "output_type": "execute_result",
          "data": {
            "text/plain": [
              "False"
            ]
          },
          "metadata": {},
          "execution_count": 15
        }
      ]
    },
    {
      "cell_type": "markdown",
      "metadata": {
        "id": "nGcx81biA6YX"
      },
      "source": [
        "## Conjuntos\n",
        "\n",
        "Python también incluye un tipo de dato para conjuntos. Un conjunto es una colección no ordenada y sin elementos repetidos. Los usos básicos de éstos incluyen verificación de pertenencia y eliminación de entradas duplicadas. Los conjuntos también soportan operaciones matemáticas como la unión, intersección, diferencia, y diferencia simétrica."
      ]
    },
    {
      "cell_type": "code",
      "metadata": {
        "colab": {
          "base_uri": "https://localhost:8080/"
        },
        "id": "jhhjlQ8JadDa",
        "outputId": "c2b93e18-7851-455b-bd57-31dc6289d72e"
      },
      "source": [
        "tc = {15,25,30,4}\n",
        "print(tc)\n",
        "tc = tc.union({33})\n",
        "print(tc)\n",
        "tc.add()"
      ],
      "execution_count": null,
      "outputs": [
        {
          "output_type": "stream",
          "name": "stdout",
          "text": [
            "{25, 4, 30, 15}\n",
            "{33, 4, 25, 30, 15}\n"
          ]
        }
      ]
    },
    {
      "cell_type": "code",
      "metadata": {
        "colab": {
          "base_uri": "https://localhost:8080/"
        },
        "id": "8Ry7HHrQcppX",
        "outputId": "574b25cf-b22b-4780-c353-e51222e5b2cf"
      },
      "source": [
        "cx = set([25,15,4,30])\n",
        "print(cx)\n",
        "cx.discard(23)\n",
        "print(cx)\n",
        "cx.remove(4)\n",
        "print(cx)\n",
        "# Pruebe que sucede si intenta, usando el método remove con el argumento 40\n",
        "print(len(cx))"
      ],
      "execution_count": null,
      "outputs": [
        {
          "output_type": "stream",
          "name": "stdout",
          "text": [
            "{25, 4, 30, 15}\n",
            "{25, 4, 30, 15}\n",
            "{25, 30, 15}\n",
            "3\n"
          ]
        }
      ]
    },
    {
      "cell_type": "code",
      "metadata": {
        "colab": {
          "base_uri": "https://localhost:8080/"
        },
        "id": "5abtCfmU_k_8",
        "outputId": "e18e58bf-9ae6-4eef-8707-e2dabee948fd"
      },
      "source": [
        "\"\"\"\n",
        "Respecto del método remove() la consideración que se debe tener es que si el\n",
        "elemento no existe marca error\n",
        "\"\"\"\n",
        "cx = {'a', \"aire\", \"cocina\", 26, 29, 1}\n",
        "print(\"cx antes : \", cx)\n",
        "cx.discard('b')\n",
        "print(\"cx despues : \", cx)"
      ],
      "execution_count": null,
      "outputs": [
        {
          "output_type": "stream",
          "name": "stdout",
          "text": [
            "cx antes :  {1, 'aire', 'a', 'cocina', 26, 29}\n",
            "cx despues :  {1, 'aire', 'a', 'cocina', 26, 29}\n"
          ]
        }
      ]
    },
    {
      "cell_type": "code",
      "metadata": {
        "colab": {
          "base_uri": "https://localhost:8080/"
        },
        "id": "LNJ1Pw1BgPBJ",
        "outputId": "963a4660-5727-4870-e021-a37c6f2f56f7"
      },
      "source": [
        "# Operaciones entre conjuntos\n",
        "ca = {1,5,7,90.23}\n",
        "cb = {2,45,68,12}\n",
        "# Unión\n",
        "cc = ca | cb\n",
        "print(cc)\n",
        "# Intersección\n",
        "cc = ca & cb\n",
        "print(cc)\n",
        "ca = {2,4,6,8}\n",
        "cb = {3,6,9}\n",
        "cc = ca & cb\n",
        "print(cc)\n",
        "print(ca.intersection(cb))\n",
        "# Subconjuntos\n",
        "ca = {2,4,6,8,10}\n",
        "cb = {6,4}\n",
        "print(cb.issubset(ca))\n",
        "print(ca.issubset(cb))\n",
        "# Diferencia simétrica\n",
        "print(ca.symmetric_difference(cb))\n",
        "print(cb.symmetric_difference(ca))\n",
        "# Profundizando en la diferencia simétrica\n",
        "ca = {1, 2, 3, 4}\n",
        "cb = {3, 4, 5, 6}\n",
        "ca.symmetric_difference(cb)"
      ],
      "execution_count": null,
      "outputs": [
        {
          "output_type": "stream",
          "name": "stdout",
          "text": [
            "{1, 2, 68, 5, 7, 12, 45, 90.23}\n",
            "set()\n",
            "{6}\n",
            "{6}\n",
            "True\n",
            "False\n",
            "{2, 8, 10}\n",
            "{2, 8, 10}\n"
          ]
        },
        {
          "output_type": "execute_result",
          "data": {
            "text/plain": [
              "{1, 2, 5, 6}"
            ]
          },
          "metadata": {},
          "execution_count": 44
        }
      ]
    },
    {
      "cell_type": "markdown",
      "metadata": {
        "id": "52ynz8Y6r7wx"
      },
      "source": [
        "**Conjuntos disconexos**\n",
        "\n",
        "\n",
        "\n",
        "---\n",
        "\n",
        "Se dice que un conjunto es disconexo respecto de otro si no comparten elementos entre sí, es decir, si su intersección es vacía."
      ]
    },
    {
      "cell_type": "code",
      "metadata": {
        "colab": {
          "base_uri": "https://localhost:8080/"
        },
        "id": "Fjrdj8lsqfnA",
        "outputId": "d4024a02-0025-49ce-ca9e-f6f1562db618"
      },
      "source": [
        "# Conjuntos disconexos\n",
        "ca = {1, 2, 3}\n",
        "cb = {3, 4, 5}\n",
        "cc = {5, 6, 7}\n",
        "print(ca.isdisjoint(cb)) # No son disconexos ya que comparten el elemento 3.\n",
        "print(ca.isdisjoint(cc)) # Son disconexos."
      ],
      "execution_count": null,
      "outputs": [
        {
          "output_type": "stream",
          "name": "stdout",
          "text": [
            "False\n",
            "True\n"
          ]
        }
      ]
    },
    {
      "cell_type": "code",
      "metadata": {
        "colab": {
          "base_uri": "https://localhost:8080/"
        },
        "id": "tDs_tAow-7FR",
        "outputId": "4541247d-80f6-49b6-a34f-deccfe0a5beb"
      },
      "source": [
        "cx = {True, 'a', \"aire\", 29, 29 < 10, 20 % 2 == 0 }\n",
        "cx"
      ],
      "execution_count": null,
      "outputs": [
        {
          "output_type": "execute_result",
          "data": {
            "text/plain": [
              "{29, False, True, 'a', 'aire'}"
            ]
          },
          "metadata": {},
          "execution_count": 16
        }
      ]
    },
    {
      "cell_type": "code",
      "metadata": {
        "colab": {
          "base_uri": "https://localhost:8080/"
        },
        "id": "brp7ltLr_IFV",
        "outputId": "0bd2fa35-b85a-466a-cc60-238f08caf582"
      },
      "source": [
        "cx = {296, 17, True, 3, 15, 29, 6}\n",
        "print(\"cx: \", cx)\n",
        "print(\"1: \", type(cx))\n",
        "print(\"2: \", 29 in cx)\n",
        "print(\"3: \", 29 not in cx)"
      ],
      "execution_count": null,
      "outputs": [
        {
          "output_type": "stream",
          "name": "stdout",
          "text": [
            "cx:  {True, 3, 6, 296, 15, 17, 29}\n",
            "1:  <class 'set'>\n",
            "2:  True\n",
            "3:  False\n"
          ]
        }
      ]
    },
    {
      "cell_type": "markdown",
      "metadata": {
        "id": "0mbR9sy8rI7z"
      },
      "source": [
        "**Conjuntos inmutables**\n",
        "\n",
        "\n",
        "---\n",
        "\n",
        "*frozenset* es una implementación similar a set pero inmutable. Es decir, comparte todas las operaciones de conjuntos revisadas hasta el momento a excepción de aquellas que implican alterar sus elementos (add(), discard()). La diferencia es análoga a la existente entre una lista y una tupla.\n"
      ]
    },
    {
      "cell_type": "code",
      "metadata": {
        "colab": {
          "base_uri": "https://localhost:8080/"
        },
        "id": "prbC6sIIrEqi",
        "outputId": "3ab7a3b2-ece9-48f1-ba29-b2e2a2e97216"
      },
      "source": [
        "ca = frozenset({1, 2, 3})\n",
        "cb = frozenset({3, 4, 5})\n",
        "print(ca & cb) # frozenset({3})\n",
        "print(ca | cb) # frozenset({1, 2, 3, 4, 5})\n",
        "print(ca.isdisjoint(cb)) # False"
      ],
      "execution_count": null,
      "outputs": [
        {
          "output_type": "stream",
          "name": "stdout",
          "text": [
            "frozenset({3})\n",
            "frozenset({1, 2, 3, 4, 5})\n",
            "False\n"
          ]
        }
      ]
    },
    {
      "cell_type": "markdown",
      "metadata": {
        "id": "MpKffQUwBBx0"
      },
      "source": [
        "## Diccionarios\n",
        "\n",
        "+ Los diccionarios se encuentran a veces en otros lenguajes como \"memorias asociativas\" o \"arreglos asociativos\".\n",
        "+ A diferencia de las secuencias, que se indexan mediante un rango numérico, los diccionarios se indexan con claves, que pueden ser cualquier tipo inmutable; las cadenas y números siempre pueden ser claves.\n",
        "+ Las tuplas pueden usarse como claves si solamente contienen cadenas, números o tuplas; si una tupla contiene cualquier objeto mutable directa o indirectamente, no puede usarse como clave.\n",
        "+ No es posible usar listas como claves, ya que las listas pueden modificarse usando asignación por índice, asignación por sección, o métodos como append() y extend().\n",
        "+ Un diccionario es un conjunto no ordenado de pares clave: valor, con el requerimiento de que las claves sean únicas (dentro de un diccionario en particular).\n",
        "+ Un par de llaves crean un diccionario vacío: {}.\n",
        "+ Colocar una lista de pares clave:valor separados por comas entre las llaves añade pares clave:valor iniciales al diccionario; esta también es la forma en que los diccionarios se presentan en la salida.\n",
        "+ Las operaciones principales sobre un diccionario son guardar un valor con una clave y extraer ese valor dada la clave. También es posible borrar un par clave:valor con ***del***.\n",
        "+ Si se usa una clave que ya está en uso para guardar un valor, el valor que estaba asociado con esa clave se pierde.\n",
        "+ Intentar extraer un valor usando una clave no existente causará un error.\n",
        "+ El método ***keys()*** de un diccionario devuelve una lista de todas las claves en uso de ese diccionario, en un orden arbitrario (si se requiere orden entonces se usa el metodo ***sort()*** sobre la lista de claves).\n",
        "+ Para verificar si una clave está en el diccionario, utilizar la palabra clave **in**."
      ]
    },
    {
      "cell_type": "code",
      "metadata": {
        "colab": {
          "base_uri": "https://localhost:8080/"
        },
        "id": "LnHMZPkLCEWs",
        "outputId": "77eb545e-f438-4bfb-db04-5345d49cb36a"
      },
      "source": [
        "d_sueldos = {'Jaqueline': 980000, 'Santiago': 490000}\n",
        "print(d_sueldos)"
      ],
      "execution_count": null,
      "outputs": [
        {
          "output_type": "stream",
          "name": "stdout",
          "text": [
            "{'Jaqueline': 980000, 'Santiago': 490000}\n"
          ]
        }
      ]
    },
    {
      "cell_type": "code",
      "metadata": {
        "colab": {
          "base_uri": "https://localhost:8080/"
        },
        "id": "Q1E7eeHUCXEN",
        "outputId": "8437b1d3-2252-4b34-a93c-d98f6dc473cd"
      },
      "source": [
        "d_sueldos['Santiago']"
      ],
      "execution_count": null,
      "outputs": [
        {
          "output_type": "execute_result",
          "data": {
            "text/plain": [
              "490000"
            ]
          },
          "metadata": {},
          "execution_count": 46
        }
      ]
    },
    {
      "cell_type": "code",
      "metadata": {
        "colab": {
          "base_uri": "https://localhost:8080/"
        },
        "id": "80mDrrPBCl-t",
        "outputId": "73058858-7986-42b5-8140-7299f9151310"
      },
      "source": [
        "# Verificar si existe un elemento\n",
        "'Guido' in d_sueldos"
      ],
      "execution_count": null,
      "outputs": [
        {
          "output_type": "execute_result",
          "data": {
            "text/plain": [
              "False"
            ]
          },
          "metadata": {},
          "execution_count": 47
        }
      ]
    },
    {
      "cell_type": "code",
      "metadata": {
        "colab": {
          "base_uri": "https://localhost:8080/"
        },
        "id": "ODepL2WYCzoH",
        "outputId": "adb03e27-213c-4d84-d6d5-2c2286690c03"
      },
      "source": [
        "d_sueldos['Guido'] = 760000\n",
        "print(d_sueldos)"
      ],
      "execution_count": null,
      "outputs": [
        {
          "output_type": "stream",
          "name": "stdout",
          "text": [
            "{'Jaqueline': 980000, 'Santiago': 490000, 'Guido': 760000}\n"
          ]
        }
      ]
    },
    {
      "cell_type": "code",
      "metadata": {
        "colab": {
          "base_uri": "https://localhost:8080/"
        },
        "id": "zfmb5KTyC6Fk",
        "outputId": "68d40585-39ca-4874-a376-5413c59a7dcf"
      },
      "source": [
        "print(d_sueldos.keys())\n",
        "print(d_sueldos.values())"
      ],
      "execution_count": null,
      "outputs": [
        {
          "output_type": "stream",
          "name": "stdout",
          "text": [
            "dict_keys(['Jaqueline', 'Santiago', 'Guido'])\n",
            "dict_values([980000, 490000, 760000])\n"
          ]
        }
      ]
    },
    {
      "cell_type": "code",
      "metadata": {
        "colab": {
          "base_uri": "https://localhost:8080/"
        },
        "id": "W5HC4erxDV5W",
        "outputId": "f0581d06-9bc3-4608-9bc0-d8acb2f6daba"
      },
      "source": [
        "del d_sueldos['Santiago']\n",
        "print(d_sueldos.keys())"
      ],
      "execution_count": null,
      "outputs": [
        {
          "output_type": "stream",
          "name": "stdout",
          "text": [
            "dict_keys(['Jaqueline', 'Guido'])\n"
          ]
        }
      ]
    },
    {
      "cell_type": "code",
      "metadata": {
        "colab": {
          "base_uri": "https://localhost:8080/"
        },
        "id": "yUiN1umHEF-C",
        "outputId": "daab3d21-d001-4789-889f-eeab3d5c2925"
      },
      "source": [
        "d_amigos = dict([('Ariel', 41), ('Guido', 47), ('Gabriela', 49)])\n",
        "print(d_amigos.keys())"
      ],
      "execution_count": null,
      "outputs": [
        {
          "output_type": "stream",
          "name": "stdout",
          "text": [
            "dict_keys(['Ariel', 'Guido', 'Gabriela'])\n"
          ]
        }
      ]
    },
    {
      "cell_type": "markdown",
      "source": [
        "@copyright - Jazna Meza Hidalgo"
      ],
      "metadata": {
        "id": "rd2l97LtUyel"
      }
    }
  ]
}